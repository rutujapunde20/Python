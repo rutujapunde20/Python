{
 "cells": [
  {
   "cell_type": "markdown",
   "id": "6a6e2200",
   "metadata": {},
   "source": [
    "Dunder methods in Python refer to the special methods that are enclosed in double underscores (also called \"magic methods\"). These methods have special meanings and are used to define how objects of a class behave in certain contexts. \n"
   ]
  },
  {
   "cell_type": "markdown",
   "id": "29bf953e",
   "metadata": {},
   "source": [
    "__str__(self): This method is called when an object is passed to the str() function and is used to return a string representation of the object.\n"
   ]
  },
  {
   "cell_type": "code",
   "execution_count": 5,
   "id": "2531ce15",
   "metadata": {},
   "outputs": [
    {
     "name": "stdout",
     "output_type": "stream",
     "text": [
      "Alice is 25 years old\n"
     ]
    }
   ],
   "source": [
    "class Person:\n",
    "    def __init__(self, name, age):\n",
    "        self.name = name\n",
    "        self.age = age\n",
    "        \n",
    "    def __str__(self):\n",
    "        return f\"{self.name} is {self.age} years old\"\n",
    "\n",
    "person = Person(\"Alice\", 25)\n",
    "print(str(person))  # Output: Alice is 25 years old\n"
   ]
  },
  {
   "cell_type": "markdown",
   "id": "ab772e8d",
   "metadata": {},
   "source": [
    "These methods are never called directly. Instead, a corresponding built-in function internally calls one of these magic methods. For instance built-in str() function invokes __str__() method."
   ]
  },
  {
   "cell_type": "markdown",
   "id": "f5396fe6",
   "metadata": {},
   "source": [
    " __str__ is used to define the \"informal\" or \"user-friendly\" string representation of an object"
   ]
  },
  {
   "cell_type": "code",
   "execution_count": 6,
   "id": "284e22ae",
   "metadata": {},
   "outputs": [
    {
     "name": "stdout",
     "output_type": "stream",
     "text": [
      "Ram is 30 years old\n"
     ]
    }
   ],
   "source": [
    "person = Person(\"Ram\", 30)\n",
    "print(person.__str__())"
   ]
  },
  {
   "cell_type": "code",
   "execution_count": 7,
   "id": "09db113f",
   "metadata": {},
   "outputs": [
    {
     "name": "stdout",
     "output_type": "stream",
     "text": [
      "Hello World\n"
     ]
    }
   ],
   "source": [
    "x=\"Hello World\"\n",
    "print(x.__str__())"
   ]
  },
  {
   "cell_type": "code",
   "execution_count": 8,
   "id": "ac453bd8",
   "metadata": {},
   "outputs": [
    {
     "data": {
      "text/plain": [
       "'Hello World'"
      ]
     },
     "execution_count": 8,
     "metadata": {},
     "output_type": "execute_result"
    }
   ],
   "source": [
    "str(x)"
   ]
  },
  {
   "cell_type": "code",
   "execution_count": 9,
   "id": "b15c0e83",
   "metadata": {},
   "outputs": [
    {
     "data": {
      "text/plain": [
       "'Hello World'"
      ]
     },
     "execution_count": 9,
     "metadata": {},
     "output_type": "execute_result"
    }
   ],
   "source": [
    "x.__str__()"
   ]
  },
  {
   "cell_type": "code",
   "execution_count": 10,
   "id": "8ff8f118",
   "metadata": {},
   "outputs": [
    {
     "name": "stdout",
     "output_type": "stream",
     "text": [
      "Hello World\n"
     ]
    }
   ],
   "source": [
    "print(x)"
   ]
  },
  {
   "cell_type": "code",
   "execution_count": 11,
   "id": "73742870",
   "metadata": {},
   "outputs": [
    {
     "name": "stdout",
     "output_type": "stream",
     "text": [
      "Ram is 30 years old\n"
     ]
    }
   ],
   "source": [
    "print(person)"
   ]
  },
  {
   "cell_type": "markdown",
   "id": "83bd3d81",
   "metadata": {},
   "source": [
    "The str() function i.e. __str__() method returns an informal or printable string representation of concerned object, which is used by the print() and format() functions."
   ]
  },
  {
   "cell_type": "code",
   "execution_count": 12,
   "id": "d3d40511",
   "metadata": {},
   "outputs": [],
   "source": [
    "class Person:\n",
    "    def __init__(self, name, age):\n",
    "        self.name = name\n",
    "        self.age = age"
   ]
  },
  {
   "cell_type": "code",
   "execution_count": 13,
   "id": "7de61b4e",
   "metadata": {},
   "outputs": [],
   "source": [
    "p=Person(\"Krishna\", 21)"
   ]
  },
  {
   "cell_type": "code",
   "execution_count": 14,
   "id": "e76ef000",
   "metadata": {},
   "outputs": [
    {
     "name": "stdout",
     "output_type": "stream",
     "text": [
      "<__main__.Person object at 0x000001606FC46760>\n"
     ]
    }
   ],
   "source": [
    "print(p)"
   ]
  },
  {
   "cell_type": "markdown",
   "id": "7832d949",
   "metadata": {},
   "source": [
    "## Join\n",
    "    \n",
    "    "
   ]
  },
  {
   "cell_type": "markdown",
   "id": "46719ae7",
   "metadata": {},
   "source": [
    "Python join() is an inbuilt string function in Python used to join elements of the sequence separated by a string separator. This function joins elements of a sequence and makes it a string."
   ]
  },
  {
   "cell_type": "code",
   "execution_count": 16,
   "id": "a1887f4b",
   "metadata": {},
   "outputs": [
    {
     "name": "stdout",
     "output_type": "stream",
     "text": [
      "h-e-l-l-o\n"
     ]
    }
   ],
   "source": [
    "new_str = '-'.join('hello')\n",
    "print(new_str)"
   ]
  },
  {
   "cell_type": "code",
   "execution_count": 20,
   "id": "efd33d39",
   "metadata": {},
   "outputs": [
    {
     "name": "stdout",
     "output_type": "stream",
     "text": [
      "Great\n",
      " $G$r$e$a$t$ \n"
     ]
    }
   ],
   "source": [
    "# Joining with empty separator\n",
    "list1 = ['G', 'r', 'e', 'a', 't']\n",
    "print(\"\".join(list1))\n",
    " \n",
    "# Joining with string\n",
    "st2 = \" Great \"\n",
    "print(\"$\".join(st2))"
   ]
  },
  {
   "cell_type": "code",
   "execution_count": 21,
   "id": "d1967ea2",
   "metadata": {},
   "outputs": [
    {
     "name": "stdout",
     "output_type": "stream",
     "text": [
      " \n",
      "G\n",
      "r\n",
      "e\n",
      "a\n",
      "t\n",
      " \n"
     ]
    }
   ],
   "source": [
    "# Joining with string\n",
    "st1 = \" Great \"\n",
    "print(\"\\n\".join(st1))"
   ]
  },
  {
   "cell_type": "code",
   "execution_count": 22,
   "id": "42bb48dd",
   "metadata": {},
   "outputs": [
    {
     "name": "stdout",
     "output_type": "stream",
     "text": [
      " \n",
      "G\n",
      "r\n",
      "e\n",
      "a\n",
      "t\n",
      " \n"
     ]
    }
   ],
   "source": [
    "# Joining with string\n",
    "st1 = \" Great \"\n",
    "print(\"\\n\".join(st1))"
   ]
  },
  {
   "cell_type": "code",
   "execution_count": 23,
   "id": "9610e650",
   "metadata": {},
   "outputs": [
    {
     "name": "stdout",
     "output_type": "stream",
     "text": [
      "Wings of Fire\n",
      "Magic of Thinking Big\n"
     ]
    }
   ],
   "source": [
    "# Joining with string\n",
    "st1 = [\"Wings of Fire\", \"Magic of Thinking Big\"]\n",
    "print(\"\\n\".join(st1))"
   ]
  },
  {
   "cell_type": "code",
   "execution_count": 2,
   "id": "0228f273",
   "metadata": {},
   "outputs": [
    {
     "name": "stdout",
     "output_type": "stream",
     "text": [
      "Welcome to the Library Management System!\n",
      "Available books:\n",
      "Wings of Fire by Dr.APJ Kalam and Arun Tiwari\n",
      "Magic of Thinking Big by David Schwartz \n",
      "\n",
      "Abhay tries to borrow Wings of Fire by Dr.APJ Kalam and Arun Tiwari:\n",
      "Wings of Fire has been borrowed.\n",
      "\n",
      "Ram tries to borrow Wings of Fire by Dr.APJ Kalam and Arun Tiwari:\n",
      "Wings of Fire is not available.\n",
      "\n",
      "Abhay returns Wings of Fire by Dr.APJ Kalam and Arun Tiwari:\n",
      "Wings of Fire has been returned.\n",
      "\n",
      "Available books:\n",
      "Wings of Fire by Dr.APJ Kalam and Arun Tiwari\n",
      "Magic of Thinking Big by David Schwartz \n"
     ]
    }
   ],
   "source": [
    "class Book:\n",
    "    def __init__(self, title, author, ISBN):\n",
    "        self.title = title\n",
    "        self.author = author\n",
    "        self.ISBN = ISBN\n",
    "        self.is_available = True\n",
    "\n",
    "    def __str__(self):\n",
    "        return f\"{self.title} by {self.author}\"\n",
    "\n",
    "    def check_availability(self):\n",
    "        return self.is_available\n",
    "\n",
    "    def borrow_book(self):\n",
    "        if self.is_available:\n",
    "            self.is_available = False\n",
    "            return f\"{self.title} has been borrowed.\"\n",
    "        else:\n",
    "            return f\"{self.title} is not available.\"\n",
    "\n",
    "    def return_book(self):\n",
    "        if not self.is_available:\n",
    "            self.is_available = True\n",
    "            return f\"{self.title} has been returned.\"\n",
    "        else:\n",
    "            return f\"{self.title} was not borrowed.\"\n",
    "\n",
    "class User:\n",
    "    def __init__(self, name):\n",
    "        self.name = name\n",
    "\n",
    "    def __str__(self):\n",
    "        return self.name\n",
    "\n",
    "class Library:\n",
    "    def __init__(self):\n",
    "        self.books = []\n",
    "\n",
    "    def add_book(self, book):\n",
    "        self.books.append(book)\n",
    "\n",
    "    def remove_book(self, book):\n",
    "        if book in self.books:\n",
    "            self.books.remove(book)\n",
    "    \n",
    "    def list_books(self):\n",
    "        book_strings = []\n",
    "        for book in self.books:\n",
    "            book_strings.append(str(book))\n",
    "        \n",
    "        return \"\\n\".join(book_strings)\n",
    "\n",
    "def main():\n",
    "    library = Library()\n",
    "\n",
    "    book1 = Book(\"Wings of Fire\", \"Dr.APJ Kalam and Arun Tiwari\", \"978-8-173-711466\")\n",
    "    book2 = Book(\"Magic of Thinking Big\", \"David Schwartz \", \"978-1-78-504047-4\")\n",
    "    \n",
    "     \n",
    "\n",
    "    library.add_book(book1)\n",
    "    library.add_book(book2)\n",
    "\n",
    "    user1 = User(\"Abhay\")\n",
    "    user2 = User(\"Ram\")\n",
    "\n",
    "    print(\"Welcome to the Library Management System!\")\n",
    "    print(\"Available books:\")\n",
    "    print(library.list_books())\n",
    "\n",
    "    print(f\"\\n{user1} tries to borrow {book1}:\")\n",
    "    print(book1.borrow_book())\n",
    "\n",
    "    print(f\"\\n{user2} tries to borrow {book1}:\")\n",
    "    print(book1.borrow_book())\n",
    "\n",
    "    print(f\"\\n{user1} returns {book1}:\")\n",
    "    print(book1.return_book())\n",
    "\n",
    "    print(\"\\nAvailable books:\")\n",
    "    print(library.list_books())\n",
    "\n",
    "if __name__ == \"__main__\":\n",
    "    main()\n"
   ]
  },
  {
   "cell_type": "code",
   "execution_count": 3,
   "id": "7d07971b",
   "metadata": {},
   "outputs": [],
   "source": []
  },
  {
   "cell_type": "code",
   "execution_count": 4,
   "id": "ee2d077c",
   "metadata": {},
   "outputs": [
    {
     "name": "stdout",
     "output_type": "stream",
     "text": [
      "Welcome to the Library Management System!\n",
      "Available books:\n",
      "Wings of Fire by Dr.APJ Kalam and Arun Tiwari\n",
      "Magic of Thinking Big by David Schwartz \n",
      "\n",
      "Abhay tries to borrow Wings of Fire by Dr.APJ Kalam and Arun Tiwari:\n",
      "Wings of Fire has been borrowed.\n",
      "\n",
      "Ram tries to borrow Wings of Fire by Dr.APJ Kalam and Arun Tiwari:\n",
      "Wings of Fire is not available.\n",
      "\n",
      "Abhay returns Wings of Fire by Dr.APJ Kalam and Arun Tiwari:\n",
      "Wings of Fire has been returned.\n",
      "\n",
      "Available books:\n",
      "Wings of Fire by Dr.APJ Kalam and Arun Tiwari\n",
      "Magic of Thinking Big by David Schwartz \n"
     ]
    }
   ],
   "source": [
    "main()"
   ]
  },
  {
   "cell_type": "code",
   "execution_count": null,
   "id": "e88a47f3",
   "metadata": {},
   "outputs": [],
   "source": []
  }
 ],
 "metadata": {
  "kernelspec": {
   "display_name": "Python 3 (ipykernel)",
   "language": "python",
   "name": "python3"
  },
  "language_info": {
   "codemirror_mode": {
    "name": "ipython",
    "version": 3
   },
   "file_extension": ".py",
   "mimetype": "text/x-python",
   "name": "python",
   "nbconvert_exporter": "python",
   "pygments_lexer": "ipython3",
   "version": "3.9.13"
  }
 },
 "nbformat": 4,
 "nbformat_minor": 5
}
