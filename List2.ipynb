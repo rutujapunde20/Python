{
  "nbformat": 4,
  "nbformat_minor": 0,
  "metadata": {
    "colab": {
      "provenance": []
    },
    "kernelspec": {
      "name": "python3",
      "display_name": "Python 3"
    },
    "language_info": {
      "name": "python"
    }
  },
  "cells": [
    {
      "cell_type": "markdown",
      "source": [
        "List is probably the most used data structure in python"
      ],
      "metadata": {
        "id": "63oEJR_bmJyl"
      }
    },
    {
      "cell_type": "code",
      "source": [
        "# Python program to declare\n",
        "# empty list\n",
        "\n",
        "# list is declared\n",
        "a = []\n",
        "\n",
        "print(\"Values of a:\", a)\n",
        "print(\"Type of a:\", type(a))\n",
        "print(\"Size of a:\", len(a))\n"
      ],
      "metadata": {
        "colab": {
          "base_uri": "https://localhost:8080/"
        },
        "id": "kVo9lM-cmU4t",
        "outputId": "56409118-7a6f-442f-c3d4-abc1558541f9"
      },
      "execution_count": null,
      "outputs": [
        {
          "output_type": "stream",
          "name": "stdout",
          "text": [
            "Values of a: []\n",
            "Type of a: <class 'list'>\n",
            "Size of a: 0\n"
          ]
        }
      ]
    },
    {
      "cell_type": "code",
      "source": [
        "#  we will create a Python empty list using the list() constructor\n",
        "# Python program to create\n",
        "# empty list\n",
        "\n",
        "# list is declared\n",
        "a = list()\n",
        "\n",
        "print(\"Values of a:\", a)\n",
        "print(\"Type of a:\", type(a))\n",
        "print(\"Size of a:\", len(a))\n"
      ],
      "metadata": {
        "colab": {
          "base_uri": "https://localhost:8080/"
        },
        "id": "5Btc6f21mc0_",
        "outputId": "8df376d8-3af9-4fd2-e735-ae2b4806bbe3"
      },
      "execution_count": null,
      "outputs": [
        {
          "output_type": "stream",
          "name": "stdout",
          "text": [
            "Values of a: []\n",
            "Type of a: <class 'list'>\n",
            "Size of a: 0\n"
          ]
        }
      ]
    },
    {
      "cell_type": "code",
      "source": [
        "# create an empty list\n",
        "a = []\n",
        "\n",
        "# append items to it\n",
        "a.append(10)\n",
        "a.append(20)\n",
        "a.append(30)\n",
        "\n",
        "print(\"Values of a:\", a)\n",
        "print(\"Type of a:\", type(a))\n",
        "print(\"Size of a:\", len(a))"
      ],
      "metadata": {
        "colab": {
          "base_uri": "https://localhost:8080/"
        },
        "id": "AKI-umUvmhv1",
        "outputId": "e9f7d521-82d2-4e07-b502-76416e8571a5"
      },
      "execution_count": null,
      "outputs": [
        {
          "output_type": "stream",
          "name": "stdout",
          "text": [
            "Values of a: [10, 20, 30]\n",
            "Type of a: <class 'list'>\n",
            "Size of a: 3\n"
          ]
        }
      ]
    },
    {
      "cell_type": "code",
      "source": [
        "d =\"abc\"\n",
        "print(d)\n",
        "print(id(d))\n",
        "d= d.replace(\"a\",\"v\")\n",
        "print(d)\n",
        "print(id(d))"
      ],
      "metadata": {
        "colab": {
          "base_uri": "https://localhost:8080/"
        },
        "id": "nAMQ8tf_mojn",
        "outputId": "c9ada605-153d-4544-9164-9d2719c5901a"
      },
      "execution_count": null,
      "outputs": [
        {
          "output_type": "stream",
          "name": "stdout",
          "text": [
            "abc\n",
            "132547796717808\n",
            "vbc\n",
            "132546762356208\n"
          ]
        }
      ]
    },
    {
      "cell_type": "code",
      "source": [
        "a=[1,2,3]\n",
        "print(id(a))\n",
        "a[0]=11\n",
        "print(id(a))"
      ],
      "metadata": {
        "colab": {
          "base_uri": "https://localhost:8080/"
        },
        "id": "TozWgfGRmtAY",
        "outputId": "5ace7874-617a-4660-cf03-8cb81eb9feb4"
      },
      "execution_count": null,
      "outputs": [
        {
          "output_type": "stream",
          "name": "stdout",
          "text": [
            "132547372773824\n",
            "132547372773824\n"
          ]
        }
      ]
    },
    {
      "cell_type": "code",
      "execution_count": null,
      "metadata": {
        "colab": {
          "base_uri": "https://localhost:8080/"
        },
        "id": "3C0X9TqQ31Jh",
        "outputId": "875fdd9e-9d55-45ea-fc02-ecab69a96877"
      },
      "outputs": [
        {
          "output_type": "execute_result",
          "data": {
            "text/plain": [
              "['a', 'e', 'i', 'o', 'u']"
            ]
          },
          "metadata": {},
          "execution_count": 2
        }
      ],
      "source": [
        "L4=['i','a','e','u','o']\n",
        "sorted(L4)"
      ]
    },
    {
      "cell_type": "code",
      "source": [
        "first_list = ['Mark', 101, 23.6, 'test', 11]"
      ],
      "metadata": {
        "id": "5IDn2uUXmzPC"
      },
      "execution_count": null,
      "outputs": []
    },
    {
      "cell_type": "code",
      "source": [
        "first_list.insert(1,\"Smith\")"
      ],
      "metadata": {
        "id": "gGomMAkXm0oj"
      },
      "execution_count": null,
      "outputs": []
    },
    {
      "cell_type": "code",
      "source": [
        "first_list\n"
      ],
      "metadata": {
        "colab": {
          "base_uri": "https://localhost:8080/"
        },
        "id": "GB5znG7Wm5wh",
        "outputId": "2f31f99c-00ac-47da-c14f-241575496cce"
      },
      "execution_count": null,
      "outputs": [
        {
          "output_type": "execute_result",
          "data": {
            "text/plain": [
              "['Mark', 'Smith', 101, 23.6, 'test', 11]"
            ]
          },
          "metadata": {},
          "execution_count": 13
        }
      ]
    },
    {
      "cell_type": "code",
      "source": [
        "first_list.append('Jack')"
      ],
      "metadata": {
        "id": "m9YZobGNnAFT"
      },
      "execution_count": null,
      "outputs": []
    },
    {
      "cell_type": "code",
      "source": [
        "first_list"
      ],
      "metadata": {
        "colab": {
          "base_uri": "https://localhost:8080/"
        },
        "id": "w6SRBXrHnIly",
        "outputId": "a15c6aa7-1c2c-4281-8433-39f180b6291d"
      },
      "execution_count": null,
      "outputs": [
        {
          "output_type": "execute_result",
          "data": {
            "text/plain": [
              "['Mark', 'Smith', 101, 23.6, 'test', 11, 'Jack']"
            ]
          },
          "metadata": {},
          "execution_count": 15
        }
      ]
    },
    {
      "cell_type": "code",
      "source": [
        "print(L4)"
      ],
      "metadata": {
        "colab": {
          "base_uri": "https://localhost:8080/"
        },
        "id": "YPzZUMin5UIv",
        "outputId": "c7d4c49e-5a2f-4954-bc25-6a0a11ae8e9c"
      },
      "execution_count": null,
      "outputs": [
        {
          "output_type": "stream",
          "name": "stdout",
          "text": [
            "['i', 'a', 'e', 'u', 'o']\n"
          ]
        }
      ]
    },
    {
      "cell_type": "code",
      "source": [
        "prime_numbers=[2,3,5,7]\n",
        "prime_numbers.reverse()"
      ],
      "metadata": {
        "id": "2mQG7q8a5jhi"
      },
      "execution_count": null,
      "outputs": []
    },
    {
      "cell_type": "code",
      "source": [
        "prime_numbers"
      ],
      "metadata": {
        "colab": {
          "base_uri": "https://localhost:8080/"
        },
        "id": "HIfmJ6Kw5y2J",
        "outputId": "63a9e5bd-8586-4d4a-d465-4f01b6ff0af2"
      },
      "execution_count": null,
      "outputs": [
        {
          "output_type": "execute_result",
          "data": {
            "text/plain": [
              "[7, 5, 3, 2]"
            ]
          },
          "metadata": {},
          "execution_count": 9
        }
      ]
    },
    {
      "cell_type": "code",
      "source": [
        "prime_numbers[0]"
      ],
      "metadata": {
        "colab": {
          "base_uri": "https://localhost:8080/"
        },
        "id": "Y_zkyjQq52Ar",
        "outputId": "93cda530-9531-4122-f649-d7574e802613"
      },
      "execution_count": null,
      "outputs": [
        {
          "output_type": "execute_result",
          "data": {
            "text/plain": [
              "7"
            ]
          },
          "metadata": {},
          "execution_count": 11
        }
      ]
    },
    {
      "cell_type": "code",
      "source": [
        "prime_numbers.index(2)"
      ],
      "metadata": {
        "colab": {
          "base_uri": "https://localhost:8080/"
        },
        "id": "xVM1hT7P57DS",
        "outputId": "a0690465-0382-43e0-ff7d-bd753a51dac7"
      },
      "execution_count": null,
      "outputs": [
        {
          "output_type": "execute_result",
          "data": {
            "text/plain": [
              "3"
            ]
          },
          "metadata": {},
          "execution_count": 10
        }
      ]
    },
    {
      "cell_type": "code",
      "source": [
        "list_1=[11,22,33,44]\n",
        "list_1.index(33)"
      ],
      "metadata": {
        "colab": {
          "base_uri": "https://localhost:8080/"
        },
        "id": "7KfYqKOl6A5y",
        "outputId": "b510be68-1be0-4e1f-d150-64e71facc043"
      },
      "execution_count": null,
      "outputs": [
        {
          "output_type": "execute_result",
          "data": {
            "text/plain": [
              "2"
            ]
          },
          "metadata": {},
          "execution_count": 15
        }
      ]
    },
    {
      "cell_type": "code",
      "source": [
        "list_1[0]"
      ],
      "metadata": {
        "colab": {
          "base_uri": "https://localhost:8080/"
        },
        "id": "uC1jRFyp6g46",
        "outputId": "21d5aac1-98d1-4247-95f1-afe97efae956"
      },
      "execution_count": null,
      "outputs": [
        {
          "output_type": "execute_result",
          "data": {
            "text/plain": [
              "11"
            ]
          },
          "metadata": {},
          "execution_count": 16
        }
      ]
    },
    {
      "cell_type": "code",
      "source": [
        "grade_list1=[]\n"
      ],
      "metadata": {
        "id": "hT1fvu7qe37k"
      },
      "execution_count": null,
      "outputs": []
    },
    {
      "cell_type": "code",
      "source": [
        "grade=15\n"
      ],
      "metadata": {
        "id": "-Ua2YpQXe3ls"
      },
      "execution_count": null,
      "outputs": []
    },
    {
      "cell_type": "code",
      "source": [
        "grade_list1.append(grade)\n",
        "print(grade_list1)"
      ],
      "metadata": {
        "colab": {
          "base_uri": "https://localhost:8080/"
        },
        "id": "vUXb2IrYfFLV",
        "outputId": "3834f19f-9e3d-4357-a998-c7ddda51b2f8"
      },
      "execution_count": null,
      "outputs": [
        {
          "output_type": "stream",
          "name": "stdout",
          "text": [
            "[15]\n"
          ]
        }
      ]
    },
    {
      "cell_type": "code",
      "source": [
        "grade_list1.append(grade)\n",
        "print(grade_list1)"
      ],
      "metadata": {
        "colab": {
          "base_uri": "https://localhost:8080/"
        },
        "id": "WEmTKRWSfWBF",
        "outputId": "4c0924f8-195a-41f4-d26d-daeff2ef248b"
      },
      "execution_count": null,
      "outputs": [
        {
          "output_type": "stream",
          "name": "stdout",
          "text": [
            "[15, 15]\n"
          ]
        }
      ]
    },
    {
      "cell_type": "code",
      "source": [
        "grade=40"
      ],
      "metadata": {
        "id": "siyIriskfSSJ"
      },
      "execution_count": null,
      "outputs": []
    },
    {
      "cell_type": "code",
      "source": [
        "#Enter grades to caculate mean/average grade type e to exist"
      ],
      "metadata": {
        "id": "wbjMFm9A6yh2"
      },
      "execution_count": null,
      "outputs": []
    },
    {
      "cell_type": "code",
      "source": [
        "print (\"Enter grades to calculate mean/average grade. type e to exit\")\n",
        "grades_list=[]\n",
        "total=0\n",
        "while True:\n",
        "  grade=input(\"-\")\n",
        "  if grade==\"e\":\n",
        "    break\n",
        "  else :\n",
        "      grade=float(grade)\n",
        "      grades_list.append(grade)\n"
      ],
      "metadata": {
        "colab": {
          "base_uri": "https://localhost:8080/"
        },
        "id": "twaSOE6b_fTe",
        "outputId": "9ddbb9ec-bca2-4b0d-b3e6-5c0a92b44111"
      },
      "execution_count": null,
      "outputs": [
        {
          "name": "stdout",
          "output_type": "stream",
          "text": [
            "Enter grades to calculate mean/average grade. type e to exit\n",
            "-5\n",
            "-5\n",
            "-5\n",
            "-e\n"
          ]
        }
      ]
    },
    {
      "cell_type": "code",
      "source": [
        "print (grades_list)\n",
        "for grade in grades_list:\n",
        "  total = total + grade\n",
        "  print( \"sum = \", total)\n"
      ],
      "metadata": {
        "colab": {
          "base_uri": "https://localhost:8080/"
        },
        "id": "uxaWKLjrB3zL",
        "outputId": "0e5f32d0-b4e1-4c64-be09-f79d0e936dd8"
      },
      "execution_count": null,
      "outputs": [
        {
          "output_type": "stream",
          "name": "stdout",
          "text": [
            "[5.0, 5.0, 5.0]\n",
            "sum =  5.0\n",
            "sum =  10.0\n",
            "sum =  15.0\n"
          ]
        }
      ]
    },
    {
      "cell_type": "code",
      "source": [
        "average = total / len(grades_list)\n",
        "print ( \"Average class grade is \",average )"
      ],
      "metadata": {
        "colab": {
          "base_uri": "https://localhost:8080/"
        },
        "id": "RdLdB2acA3Um",
        "outputId": "eec49409-54ce-437d-bc3e-88504a2f961f"
      },
      "execution_count": null,
      "outputs": [
        {
          "output_type": "stream",
          "name": "stdout",
          "text": [
            "Average class grade is  5.0\n"
          ]
        }
      ]
    },
    {
      "cell_type": "code",
      "source": [
        "odd_numbers=[1,3,5,7]\n"
      ],
      "metadata": {
        "id": "t2Rcdh2zE1dS"
      },
      "execution_count": null,
      "outputs": []
    },
    {
      "cell_type": "code",
      "source": [
        "odd_numbers"
      ],
      "metadata": {
        "colab": {
          "base_uri": "https://localhost:8080/"
        },
        "id": "7Hxxxf32E-7a",
        "outputId": "0e9050cb-4688-4da5-a45e-25ec399f458e"
      },
      "execution_count": null,
      "outputs": [
        {
          "output_type": "execute_result",
          "data": {
            "text/plain": [
              "[1, 3, 5, 7]"
            ]
          },
          "metadata": {},
          "execution_count": 37
        }
      ]
    },
    {
      "cell_type": "markdown",
      "source": [
        "Q. Find out how many vowels are in a given sentence"
      ],
      "metadata": {
        "id": "5YpSmcMa_HTG"
      }
    },
    {
      "cell_type": "code",
      "source": [
        "#w3schoolspython--tutorial\n",
        "#w3resources python"
      ],
      "metadata": {
        "id": "YqH45EReDCjp"
      },
      "execution_count": null,
      "outputs": []
    },
    {
      "cell_type": "code",
      "source": [
        "#Methods of list=Home work"
      ],
      "metadata": {
        "id": "bfi-1iDvISZR"
      },
      "execution_count": null,
      "outputs": []
    },
    {
      "cell_type": "code",
      "source": [
        "sentence = input ( \"Enter a sentence : \")\n",
        "\n",
        "vowels = ['a','e','i','o','u']\n",
        "vowel_count = 0\n",
        "\n",
        "for i in list(sentence) :\n",
        "    if i in vowels :\n",
        "        vowel_count=vowel_count + 1\n",
        "print(\"Number of vowels in the sentence is : \", vowel_count)"
      ],
      "metadata": {
        "colab": {
          "base_uri": "https://localhost:8080/"
        },
        "id": "iT3WUYm-nc8r",
        "outputId": "2ab4c949-4c87-45e5-f105-4a5b7abecaea"
      },
      "execution_count": null,
      "outputs": [
        {
          "output_type": "stream",
          "name": "stdout",
          "text": [
            "Enter a sentence : rutujaa\n",
            "Number of vowels in the sentence is :  4\n"
          ]
        }
      ]
    },
    {
      "cell_type": "code",
      "source": [],
      "metadata": {
        "id": "jcSvPz2-nooP"
      },
      "execution_count": null,
      "outputs": []
    }
  ]
}