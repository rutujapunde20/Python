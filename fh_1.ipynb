{
 "cells": [
  {
   "cell_type": "code",
   "execution_count": 1,
   "id": "8e573974",
   "metadata": {},
   "outputs": [
    {
     "name": "stdout",
     "output_type": "stream",
     "text": [
      "International Day for the Preservation of the Ozone Layer is celebrated on September 16 designed by the United Nations General Assembly. \n",
      "This designation had been made on December 19, 2000, in commemoration of the date, in 1987, on which nations signed the Montreal Protocol on Substances that Deplete the Ozone Layer. \n",
      "Wikipedia\n"
     ]
    }
   ],
   "source": [
    "# reading file \n",
    "# relative path\n",
    "import os \n",
    "file =open(\"ozone.txt\", \"r\")\n",
    "print(file.read())  # reads entire file \n",
    "file.close()"
   ]
  },
  {
   "cell_type": "code",
   "execution_count": 2,
   "id": "4c381a42",
   "metadata": {},
   "outputs": [
    {
     "data": {
      "text/plain": [
       "'C:\\\\Users\\\\SevenMentor\\\\1A. Python\\\\C7117'"
      ]
     },
     "execution_count": 2,
     "metadata": {},
     "output_type": "execute_result"
    }
   ],
   "source": [
    "pwd"
   ]
  },
  {
   "cell_type": "code",
   "execution_count": 3,
   "id": "c319e341",
   "metadata": {},
   "outputs": [
    {
     "name": "stdout",
     "output_type": "stream",
     "text": [
      "C:\\Users\\SevenMentor\\1A. Python\\C7117\n"
     ]
    }
   ],
   "source": [
    "import os\n",
    "print(os.getcwd())"
   ]
  },
  {
   "cell_type": "code",
   "execution_count": 9,
   "id": "1b6fee49",
   "metadata": {},
   "outputs": [
    {
     "name": "stdout",
     "output_type": "stream",
     "text": [
      "Line 1\n",
      "Line 2\n",
      "Line 3\n",
      "Line 4\n"
     ]
    }
   ],
   "source": [
    "# Absolute path\n",
    "import os \n",
    "file =open(\"C:/Users/SevenMentor/1A. Python/C7117/sample1.txt\", \"r\")\n",
    "print(file.read())  # reads entire file \n",
    "file.close()"
   ]
  },
  {
   "cell_type": "code",
   "execution_count": 6,
   "id": "63ef8a4a",
   "metadata": {},
   "outputs": [
    {
     "data": {
      "text/plain": [
       "'C:\\\\Users\\\\SevenMentor\\\\1A. Python\\\\C7117'"
      ]
     },
     "execution_count": 6,
     "metadata": {},
     "output_type": "execute_result"
    }
   ],
   "source": [
    "pwd"
   ]
  },
  {
   "cell_type": "code",
   "execution_count": 10,
   "id": "c9ed200c",
   "metadata": {},
   "outputs": [
    {
     "name": "stdout",
     "output_type": "stream",
     "text": [
      "This is August \n",
      "2023\n",
      "<class '_io.TextIOWrapper'>\n"
     ]
    }
   ],
   "source": [
    "import os \n",
    "file =open(\"C:/Users/SevenMentor/1A. Python/August.txt\", \"r\")\n",
    "print(file.read())  # reads entire file \n",
    "print(type(file))\n",
    "file.close()\n"
   ]
  },
  {
   "cell_type": "code",
   "execution_count": 11,
   "id": "10ba1b7b",
   "metadata": {},
   "outputs": [
    {
     "name": "stdout",
     "output_type": "stream",
     "text": [
      "Inter\n"
     ]
    }
   ],
   "source": [
    "# reading file \n",
    "# relative path\n",
    "import os \n",
    "file =open(\"ozone.txt\", \"r\")\n",
    "print(file.read(5))  #reading first 5 chars from ozone.txt\n",
    "file.close()"
   ]
  },
  {
   "cell_type": "code",
   "execution_count": 12,
   "id": "5028f700",
   "metadata": {},
   "outputs": [
    {
     "ename": "ValueError",
     "evalue": "I/O operation on closed file.",
     "output_type": "error",
     "traceback": [
      "\u001b[1;31m---------------------------------------------------------------------------\u001b[0m",
      "\u001b[1;31mValueError\u001b[0m                                Traceback (most recent call last)",
      "\u001b[1;32m~\\AppData\\Local\\Temp\\ipykernel_14292\\2435082916.py\u001b[0m in \u001b[0;36m<module>\u001b[1;34m\u001b[0m\n\u001b[1;32m----> 1\u001b[1;33m \u001b[0mfile\u001b[0m\u001b[1;33m.\u001b[0m\u001b[0mread\u001b[0m\u001b[1;33m(\u001b[0m\u001b[1;36m5\u001b[0m\u001b[1;33m)\u001b[0m\u001b[1;33m\u001b[0m\u001b[1;33m\u001b[0m\u001b[0m\n\u001b[0m",
      "\u001b[1;31mValueError\u001b[0m: I/O operation on closed file."
     ]
    }
   ],
   "source": [
    "file.read(5)"
   ]
  },
  {
   "cell_type": "code",
   "execution_count": 13,
   "id": "b6ac2a16",
   "metadata": {},
   "outputs": [
    {
     "name": "stdout",
     "output_type": "stream",
     "text": [
      "International Day for the Preservation of the Ozone Layer is celebrated on September 16 designed by the United Nations General Assembly. \n",
      "\n"
     ]
    }
   ],
   "source": [
    "\n",
    "import os \n",
    "file =open(\"ozone.txt\", \"r\")\n",
    "print(file.readline())\n",
    "file.close()"
   ]
  },
  {
   "cell_type": "code",
   "execution_count": 14,
   "id": "60c8b554",
   "metadata": {},
   "outputs": [
    {
     "name": "stdout",
     "output_type": "stream",
     "text": [
      "['International Day for the Preservation of the Ozone Layer is celebrated on September 16 designed by the United Nations General Assembly. \\n', 'This designation had been made on December 19, 2000, in commemoration of the date, in 1987, on which nations signed the Montreal Protocol on Substances that Deplete the Ozone Layer. \\n', 'Wikipedia']\n"
     ]
    }
   ],
   "source": [
    "\n",
    "import os \n",
    "file =open(\"ozone.txt\", \"r\")\n",
    "print(file.readlines())\n",
    "file.close()"
   ]
  },
  {
   "cell_type": "code",
   "execution_count": 15,
   "id": "f0152d9e",
   "metadata": {},
   "outputs": [
    {
     "name": "stdout",
     "output_type": "stream",
     "text": [
      "International Day for the Preservation of the Ozone Layer is celebrated on September 16 designed by the United Nations General Assembly. \n",
      "This designation had been made on December 19, 2000, in commemoration of the date, in 1987, on which nations signed the Montreal Protocol on Substances that Deplete the Ozone Layer. \n",
      "Wikipedia\n"
     ]
    }
   ],
   "source": [
    "\n",
    "import os \n",
    "file =open(\"ozone.txt\", \"r\")\n",
    "print(file.read())\n",
    "file.close()"
   ]
  },
  {
   "cell_type": "code",
   "execution_count": 16,
   "id": "665b138d",
   "metadata": {},
   "outputs": [],
   "source": [
    "import os \n",
    "\n",
    "file =open(\"sample1.txt\", \"w\")\n",
    "file.write(\"Ozone Day\")\n",
    "file.write(\"\\nDone\")\n",
    "file.close()"
   ]
  },
  {
   "cell_type": "code",
   "execution_count": 17,
   "id": "b7936bca",
   "metadata": {},
   "outputs": [],
   "source": [
    "import os \n",
    "\n",
    "file =open(\"sample3.txt\", \"w\")\n",
    "file.write(\"This is sample file\")\n",
    "file.close()"
   ]
  },
  {
   "cell_type": "code",
   "execution_count": 18,
   "id": "593aba8c",
   "metadata": {},
   "outputs": [],
   "source": [
    "import os \n",
    "\n",
    "file =open(\"sample3.txt\", \"a\")\n",
    "file.write(\"\\n This is appended content\")\n",
    "file.close()"
   ]
  },
  {
   "cell_type": "code",
   "execution_count": 19,
   "id": "fff59604",
   "metadata": {},
   "outputs": [],
   "source": [
    "import os \n",
    "\n",
    "file =open(\"sample5.txt\", \"x\")\n",
    "file.write(\"This file is created on August 9\")\n",
    "file.close()"
   ]
  },
  {
   "cell_type": "code",
   "execution_count": 20,
   "id": "d3245b13",
   "metadata": {},
   "outputs": [
    {
     "ename": "FileExistsError",
     "evalue": "[Errno 17] File exists: 'sample1.txt'",
     "output_type": "error",
     "traceback": [
      "\u001b[1;31m---------------------------------------------------------------------------\u001b[0m",
      "\u001b[1;31mFileExistsError\u001b[0m                           Traceback (most recent call last)",
      "\u001b[1;32m~\\AppData\\Local\\Temp\\ipykernel_14292\\2765448162.py\u001b[0m in \u001b[0;36m<module>\u001b[1;34m\u001b[0m\n\u001b[0;32m      1\u001b[0m \u001b[1;32mimport\u001b[0m \u001b[0mos\u001b[0m\u001b[1;33m\u001b[0m\u001b[1;33m\u001b[0m\u001b[0m\n\u001b[0;32m      2\u001b[0m \u001b[1;33m\u001b[0m\u001b[0m\n\u001b[1;32m----> 3\u001b[1;33m \u001b[0mfile\u001b[0m \u001b[1;33m=\u001b[0m\u001b[0mopen\u001b[0m\u001b[1;33m(\u001b[0m\u001b[1;34m\"sample1.txt\"\u001b[0m\u001b[1;33m,\u001b[0m \u001b[1;34m\"x\"\u001b[0m\u001b[1;33m)\u001b[0m\u001b[1;33m\u001b[0m\u001b[1;33m\u001b[0m\u001b[0m\n\u001b[0m\u001b[0;32m      4\u001b[0m \u001b[0mfile\u001b[0m\u001b[1;33m.\u001b[0m\u001b[0mwrite\u001b[0m\u001b[1;33m(\u001b[0m\u001b[1;34m\"This file is created on August 9\"\u001b[0m\u001b[1;33m)\u001b[0m\u001b[1;33m\u001b[0m\u001b[1;33m\u001b[0m\u001b[0m\n\u001b[0;32m      5\u001b[0m \u001b[0mfile\u001b[0m\u001b[1;33m.\u001b[0m\u001b[0mclose\u001b[0m\u001b[1;33m(\u001b[0m\u001b[1;33m)\u001b[0m\u001b[1;33m\u001b[0m\u001b[1;33m\u001b[0m\u001b[0m\n",
      "\u001b[1;31mFileExistsError\u001b[0m: [Errno 17] File exists: 'sample1.txt'"
     ]
    }
   ],
   "source": [
    "import os \n",
    "\n",
    "file =open(\"sample1.txt\", \"x\")\n",
    "file.write(\"This file is created on August 9\")\n",
    "file.close()"
   ]
  },
  {
   "cell_type": "code",
   "execution_count": 22,
   "id": "3a62d5ff",
   "metadata": {},
   "outputs": [
    {
     "name": "stdout",
     "output_type": "stream",
     "text": [
      "no such file\n"
     ]
    }
   ],
   "source": [
    "# Check whether file exits or not before removing \n",
    "\n",
    "\n",
    "import os \n",
    "if os.path.exists(\"sample3.txt\"): \n",
    "    os.remove(\"sample3.txt\")\n",
    "else: \n",
    "    print(\"no such file\")"
   ]
  },
  {
   "cell_type": "code",
   "execution_count": 28,
   "id": "42b18888",
   "metadata": {},
   "outputs": [
    {
     "name": "stdout",
     "output_type": "stream",
     "text": [
      "ab\n",
      "Li\n",
      "Se\n"
     ]
    }
   ],
   "source": [
    "# write a python program to read \n",
    "# first 2 characters on line no. 4 in a file\n",
    "\n",
    "# Open the file for reading\n",
    "with open('sample8.txt', 'r') as file:\n",
    "    # Read the fourth line\n",
    "    for i in range(3):\n",
    "        line = file.readline()\n",
    "        \n",
    "        first_2_chars = line[:2]\n",
    "        print(first_2_chars)\n",
    "\n"
   ]
  },
  {
   "cell_type": "code",
   "execution_count": 30,
   "id": "96b8cb55",
   "metadata": {},
   "outputs": [
    {
     "name": "stdout",
     "output_type": "stream",
     "text": [
      "Seven\n",
      "\n"
     ]
    }
   ],
   "source": [
    "# Open the file for reading\n",
    "with open('sample8.txt', 'r') as file:\n",
    "    \n",
    "    line = file.readlines()[2]\n",
    "    print(line)\n",
    "    \n",
    "#     first_2_chars = line[:2]\n",
    "#     print(first_2_chars)\n"
   ]
  },
  {
   "cell_type": "code",
   "execution_count": 31,
   "id": "0ba25814",
   "metadata": {},
   "outputs": [
    {
     "name": "stdout",
     "output_type": "stream",
     "text": [
      "Wikipedia\n"
     ]
    }
   ],
   "source": [
    "# Open the file for reading\n",
    "with open('ozone.txt', 'r') as file:\n",
    "    \n",
    "    line = file.readlines()[2]\n",
    "    print(line)\n",
    "    \n",
    "#     first_2_chars = line[:2]\n",
    "#     print(first_2_chars)\n"
   ]
  },
  {
   "cell_type": "code",
   "execution_count": 35,
   "id": "5cfbc5dd",
   "metadata": {},
   "outputs": [
    {
     "name": "stdout",
     "output_type": "stream",
     "text": [
      "This designation had been made on December 19, 2000, in commemoration of the date, in 1987, on which nations signed the Montreal Protocol on Substances that Deplete the Ozone Layer. \n",
      "\n"
     ]
    }
   ],
   "source": [
    "# Open the file for reading\n",
    "with open('ozone.txt', 'r') as file:\n",
    "    \n",
    "    line = file.readlines()[1]\n",
    "    print(line)\n",
    "    \n"
   ]
  },
  {
   "cell_type": "code",
   "execution_count": null,
   "id": "8cb71ab2",
   "metadata": {},
   "outputs": [],
   "source": []
  }
 ],
 "metadata": {
  "kernelspec": {
   "display_name": "Python 3 (ipykernel)",
   "language": "python",
   "name": "python3"
  },
  "language_info": {
   "codemirror_mode": {
    "name": "ipython",
    "version": 3
   },
   "file_extension": ".py",
   "mimetype": "text/x-python",
   "name": "python",
   "nbconvert_exporter": "python",
   "pygments_lexer": "ipython3",
   "version": "3.9.13"
  }
 },
 "nbformat": 4,
 "nbformat_minor": 5
}
