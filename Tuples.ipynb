{
  "nbformat": 4,
  "nbformat_minor": 0,
  "metadata": {
    "colab": {
      "provenance": []
    },
    "kernelspec": {
      "name": "python3",
      "display_name": "Python 3"
    },
    "language_info": {
      "name": "python"
    }
  },
  "cells": [
    {
      "cell_type": "markdown",
      "source": [
        "**A tuple in Python is a collection of ordered and unchangeable items of the same or mixed data types stored in a single variable.**"
      ],
      "metadata": {
        "id": "yGQ42HdCMbsF"
      }
    },
    {
      "cell_type": "markdown",
      "source": [
        "Creating a tuple"
      ],
      "metadata": {
        "id": "3kaCoHMh3V8r"
      }
    },
    {
      "cell_type": "code",
      "source": [
        "# creating a tuple\n",
        "mytuple = (\"apple\", \"banana\", \"cherry\")\n",
        "\n",
        "print(\"Tuple 1: \", mytuple)\n",
        "print(type(mytuple), '\\n')\n",
        "\n",
        "tuple2 = (511, \"ID\", 1.23, 'M')\n",
        "print(\"Tuple 2: \", tuple2)\n",
        "print(type(tuple2))"
      ],
      "metadata": {
        "colab": {
          "base_uri": "https://localhost:8080/"
        },
        "id": "tHxIpdmxMT1W",
        "outputId": "fb00fc4c-8766-4a2f-dfe4-ebb41f956aaa"
      },
      "execution_count": null,
      "outputs": [
        {
          "output_type": "stream",
          "name": "stdout",
          "text": [
            "Tuple 1:  ('apple', 'banana', 'cherry')\n",
            "<class 'tuple'> \n",
            "\n",
            "Tuple 2:  (511, 'ID', 1.23, 'M')\n",
            "<class 'tuple'>\n"
          ]
        }
      ]
    },
    {
      "cell_type": "markdown",
      "source": [
        "#Creating tuple with single item"
      ],
      "metadata": {
        "id": "Q_i4SPx_3QiR"
      }
    },
    {
      "cell_type": "code",
      "source": [
        "# creating a tuple\n",
        "mytuple1 = (8)\n",
        "\n",
        "print(mytuple1)\n",
        "print(type(mytuple1))"
      ],
      "metadata": {
        "colab": {
          "base_uri": "https://localhost:8080/"
        },
        "id": "RpKEcaqwMYlf",
        "outputId": "5ff05212-1f88-4c75-f011-13ee54bcb348"
      },
      "execution_count": null,
      "outputs": [
        {
          "output_type": "stream",
          "name": "stdout",
          "text": [
            "8\n",
            "<class 'int'>\n"
          ]
        }
      ]
    },
    {
      "cell_type": "code",
      "source": [
        "# creating a tuple\n",
        "mytuple = (\"apple\")\n",
        "\n",
        "print(mytuple)\n",
        "print(type(mytuple))"
      ],
      "metadata": {
        "colab": {
          "base_uri": "https://localhost:8080/"
        },
        "id": "no0XFW3uMYiy",
        "outputId": "07880f53-38f9-4fab-f936-7258a62900e5"
      },
      "execution_count": null,
      "outputs": [
        {
          "output_type": "stream",
          "name": "stdout",
          "text": [
            "apple\n",
            "<class 'str'>\n"
          ]
        }
      ]
    },
    {
      "cell_type": "code",
      "source": [
        "#The code above returns a string data type (<class 'str'>), not a tuple. We check the data type of the mytuple using the type() function.\n",
        "\n",
        "#The reason why our code does not return a tuple is that Python does not recognize the code mytuple = (\"apple\") as a tuple but rather as an str."
      ],
      "metadata": {
        "id": "jbJSgLLQMYfu"
      },
      "execution_count": null,
      "outputs": []
    },
    {
      "cell_type": "code",
      "source": [
        "# creating a tuple single item by adding a comma after the item\n",
        "mytuple = (\"apple\",)\n",
        "\n",
        "print(mytuple)\n",
        "print(type(mytuple))"
      ],
      "metadata": {
        "colab": {
          "base_uri": "https://localhost:8080/"
        },
        "id": "xbyvwc0tM5rm",
        "outputId": "dc4e4862-9ef3-4f58-f9fa-1458bdb4deb8"
      },
      "execution_count": null,
      "outputs": [
        {
          "output_type": "stream",
          "name": "stdout",
          "text": [
            "('apple',)\n",
            "<class 'tuple'>\n"
          ]
        }
      ]
    },
    {
      "cell_type": "code",
      "source": [
        "tuple_1 = 10,\n",
        "print(tuple_1)\n",
        "print (type(tuple_1))"
      ],
      "metadata": {
        "colab": {
          "base_uri": "https://localhost:8080/"
        },
        "id": "x6xERk4JNNo0",
        "outputId": "dc1f47e2-7e40-43da-b290-1cf40a04ac79"
      },
      "execution_count": null,
      "outputs": [
        {
          "output_type": "stream",
          "name": "stdout",
          "text": [
            "(10,)\n",
            "<class 'tuple'>\n"
          ]
        }
      ]
    },
    {
      "cell_type": "code",
      "source": [
        "tuple_1"
      ],
      "metadata": {
        "colab": {
          "base_uri": "https://localhost:8080/"
        },
        "id": "8vYg0gF9NNYb",
        "outputId": "2d258a90-2e75-4c36-8b1a-035acad98ad0"
      },
      "execution_count": null,
      "outputs": [
        {
          "output_type": "execute_result",
          "data": {
            "text/plain": [
              "(10,)"
            ]
          },
          "metadata": {},
          "execution_count": 10
        }
      ]
    },
    {
      "cell_type": "markdown",
      "source": [
        "Tuple with one element"
      ],
      "metadata": {
        "id": "TRjm-0MjNil2"
      }
    },
    {
      "cell_type": "code",
      "source": [
        "single_tuple_error = (10)\n",
        "print(single_tuple_error)\n",
        "# 10\n",
        "\n",
        "print(type(single_tuple_error))\n",
        "# <class 'int'>"
      ],
      "metadata": {
        "colab": {
          "base_uri": "https://localhost:8080/"
        },
        "id": "wlKZ_tDZM5eI",
        "outputId": "38aa31d8-2174-4478-80df-eb497f901cbe"
      },
      "execution_count": null,
      "outputs": [
        {
          "output_type": "stream",
          "name": "stdout",
          "text": [
            "10\n",
            "<class 'int'>\n"
          ]
        }
      ]
    },
    {
      "cell_type": "code",
      "source": [
        "##To create a tuple with one element, a comma , is required at the end.\n"
      ],
      "metadata": {
        "id": "bVp9TcdiNZz8"
      },
      "execution_count": null,
      "outputs": []
    },
    {
      "cell_type": "code",
      "source": [
        "single_tuple = (10, )\n",
        "print(single_tuple)\n",
        "# (10,)\n",
        "\n",
        "print(type(single_tuple))\n",
        "# <class 'tuple'>"
      ],
      "metadata": {
        "colab": {
          "base_uri": "https://localhost:8080/"
        },
        "id": "L4Y-gy4NNZsW",
        "outputId": "671d0c3d-899f-4632-c6be-dcb8eb0e9923"
      },
      "execution_count": null,
      "outputs": [
        {
          "output_type": "stream",
          "name": "stdout",
          "text": [
            "(10,)\n",
            "<class 'tuple'>\n"
          ]
        }
      ]
    },
    {
      "cell_type": "markdown",
      "source": [
        "*To access an element, even if there is only one element in the tuple, you can use the index notation [ ].*"
      ],
      "metadata": {
        "id": "X1iHxqVXOrfW"
      }
    },
    {
      "cell_type": "code",
      "source": [
        "print(single_tuple[0])\n",
        "# 10"
      ],
      "metadata": {
        "colab": {
          "base_uri": "https://localhost:8080/"
        },
        "id": "vu4UNbtIOOFL",
        "outputId": "999022fc-42d8-462f-c73f-068cfcd07d1e"
      },
      "execution_count": null,
      "outputs": [
        {
          "output_type": "stream",
          "name": "stdout",
          "text": [
            "10\n"
          ]
        }
      ]
    },
    {
      "cell_type": "code",
      "source": [
        "# For example, when concatenating multiple tuples using the + operator, be aware that an error will be raised if you attempt to add a single element without a comma ,.\n"
      ],
      "metadata": {
        "id": "JfVtg6bOOOCC"
      },
      "execution_count": null,
      "outputs": []
    },
    {
      "cell_type": "code",
      "source": [
        "# print((0, 1, 2) + (3))\n",
        "# TypeError: can only concatenate tuple (not \"int\") to tuple\n",
        "\n",
        "print((0, 1, 2) + (3, ))\n",
        "# (0, 1, 2, 3)"
      ],
      "metadata": {
        "colab": {
          "base_uri": "https://localhost:8080/"
        },
        "id": "N8I9-Ty1ON-n",
        "outputId": "2ccb972a-c2c0-49bd-9d7d-a11fef3f14c0"
      },
      "execution_count": null,
      "outputs": [
        {
          "output_type": "stream",
          "name": "stdout",
          "text": [
            "(0, 1, 2, 3)\n"
          ]
        }
      ]
    },
    {
      "cell_type": "code",
      "source": [
        "t = 0, 1, 2\n",
        "print(t)\n",
        "# (0, 1, 2)\n",
        "\n",
        "print(type(t))\n",
        "# <class 'tuple'>"
      ],
      "metadata": {
        "colab": {
          "base_uri": "https://localhost:8080/"
        },
        "id": "KhyUxP2aON7g",
        "outputId": "5b075990-8b79-47e6-93ae-27a3b53d4553"
      },
      "execution_count": null,
      "outputs": [
        {
          "output_type": "stream",
          "name": "stdout",
          "text": [
            "(0, 1, 2)\n",
            "<class 'tuple'>\n"
          ]
        }
      ]
    },
    {
      "cell_type": "markdown",
      "source": [
        "Note that if there is an unnecessary comma , after the object, it will be treated as a tuple."
      ],
      "metadata": {
        "id": "bxOa6rXNP8WJ"
      }
    },
    {
      "cell_type": "code",
      "source": [
        "t = 0,\n",
        "print(t)\n",
        "# (0,)\n",
        "\n",
        "print(type(t))\n",
        "# <class 'tuple'>"
      ],
      "metadata": {
        "colab": {
          "base_uri": "https://localhost:8080/"
        },
        "id": "214ZaQ1LON4L",
        "outputId": "9a842497-16bd-45c3-9063-54c0097c667a"
      },
      "execution_count": null,
      "outputs": [
        {
          "output_type": "stream",
          "name": "stdout",
          "text": [
            "(0,)\n",
            "<class 'tuple'>\n"
          ]
        }
      ]
    },
    {
      "cell_type": "code",
      "source": [
        "t = 0\n",
        "print(t)\n",
        "\n",
        "\n",
        "print(type(t))\n",
        "# <class 'int'>"
      ],
      "metadata": {
        "colab": {
          "base_uri": "https://localhost:8080/"
        },
        "id": "6hfAOZ2zQBZx",
        "outputId": "b28cefee-0962-49ee-c341-f420bc1c4918"
      },
      "execution_count": null,
      "outputs": [
        {
          "output_type": "stream",
          "name": "stdout",
          "text": [
            "0\n",
            "<class 'int'>\n"
          ]
        }
      ]
    },
    {
      "cell_type": "markdown",
      "source": [
        "#### Empty tuple\n"
      ],
      "metadata": {
        "id": "AmB1g4cIQMPv"
      }
    },
    {
      "cell_type": "markdown",
      "source": [
        "As mentioned above, parentheses () can be omitted to represent a tuple but are required when creating an empty tuple.\n",
        "\n",
        "SyntaxError is raised if there is only a space or a comma ,."
      ],
      "metadata": {
        "id": "z9GnUWB-QR7i"
      }
    },
    {
      "cell_type": "code",
      "source": [
        "empty_tuple = ()\n",
        "print(empty_tuple)\n",
        "# ()\n",
        "\n",
        "print(type(empty_tuple))\n",
        "# <class 'tuple'>\n",
        "\n",
        "# empty_tuple_error =\n",
        "# SyntaxError: invalid syntax\n",
        "\n",
        "# empty_tuple_error = ,\n",
        "# SyntaxError: invalid syntax\n",
        "\n",
        "# empty_tuple_error = (,)\n",
        "# SyntaxError: invalid syntax"
      ],
      "metadata": {
        "colab": {
          "base_uri": "https://localhost:8080/"
        },
        "id": "NXblWo8HON0-",
        "outputId": "ec9e6a52-f881-432b-853a-d41e68808ee0"
      },
      "execution_count": null,
      "outputs": [
        {
          "output_type": "stream",
          "name": "stdout",
          "text": [
            "()\n",
            "<class 'tuple'>\n"
          ]
        }
      ]
    },
    {
      "cell_type": "markdown",
      "source": [
        "An empty tuple can also be created by calling tuple() without any arguments.\n",
        "\n"
      ],
      "metadata": {
        "id": "QAqZF9cZQbF9"
      }
    },
    {
      "cell_type": "code",
      "source": [
        "empty_tuple = tuple()\n",
        "print(empty_tuple)\n",
        "# ()\n",
        "\n",
        "print(type(empty_tuple))\n",
        "# <class 'tuple'>"
      ],
      "metadata": {
        "colab": {
          "base_uri": "https://localhost:8080/"
        },
        "id": "SdIgB3CLQF92",
        "outputId": "ccc1e5cd-5859-44f0-d1a0-a2601e50eb5b"
      },
      "execution_count": null,
      "outputs": [
        {
          "output_type": "stream",
          "name": "stdout",
          "text": [
            "()\n",
            "<class 'tuple'>\n"
          ]
        }
      ]
    },
    {
      "cell_type": "markdown",
      "source": [
        "##### Tuples in function arguments"
      ],
      "metadata": {
        "id": "2-smw-fSQmGB"
      }
    },
    {
      "cell_type": "code",
      "source": [
        "def example(a, b):\n",
        "    print(a, type(a))\n",
        "    print(b, type(b))\n",
        "\n",
        "example(0, 1)\n",
        "# 0 <class 'int'>\n",
        "# 1 <class 'int'>\n",
        "\n",
        "\n",
        "\n",
        "example((0, 1), 2)\n",
        "# (0, 1) <class 'tuple'>\n",
        "# 2 <class 'int'>"
      ],
      "metadata": {
        "colab": {
          "base_uri": "https://localhost:8080/"
        },
        "id": "hAU8Eb7_QF5k",
        "outputId": "3722b549-a71d-4b66-8568-77de55d53ecc"
      },
      "execution_count": null,
      "outputs": [
        {
          "output_type": "stream",
          "name": "stdout",
          "text": [
            "0 <class 'int'>\n",
            "1 <class 'int'>\n",
            "(0, 1) <class 'tuple'>\n",
            "2 <class 'int'>\n"
          ]
        }
      ]
    },
    {
      "cell_type": "code",
      "source": [
        "example(*(0, 1))"
      ],
      "metadata": {
        "colab": {
          "base_uri": "https://localhost:8080/"
        },
        "id": "_cYTEs27QxEU",
        "outputId": "d38d4f42-83bb-49ad-830f-cd44018080d0"
      },
      "execution_count": null,
      "outputs": [
        {
          "output_type": "stream",
          "name": "stdout",
          "text": [
            "0 <class 'int'>\n",
            "1 <class 'int'>\n"
          ]
        }
      ]
    },
    {
      "cell_type": "code",
      "source": [
        "mytuple = (\"apple\", \"banana\", \"cherry\")\n"
      ],
      "metadata": {
        "id": "rm-mIfebQxAs"
      },
      "execution_count": null,
      "outputs": []
    },
    {
      "cell_type": "markdown",
      "source": [
        "Tuple Items\n",
        "Tuple items are ordered, unchangeable, and allow duplicate values.\n",
        "\n",
        "Tuple items are indexed, the first item has index [0], the second item has index [1] etc."
      ],
      "metadata": {
        "id": "faudwzo8Q9T8"
      }
    },
    {
      "cell_type": "code",
      "source": [
        "thistuple = (\"apple\", \"banana\", \"cherry\", \"apple\", \"cherry\")\n",
        "print(thistuple)"
      ],
      "metadata": {
        "colab": {
          "base_uri": "https://localhost:8080/"
        },
        "id": "gyKRkDzMQF2V",
        "outputId": "6511da8f-c64b-4dea-f6bc-2c93f056e7c3"
      },
      "execution_count": null,
      "outputs": [
        {
          "output_type": "stream",
          "name": "stdout",
          "text": [
            "('apple', 'banana', 'cherry', 'apple', 'cherry')\n"
          ]
        }
      ]
    },
    {
      "cell_type": "code",
      "source": [
        "tuple1 = (\"apple\", \"banana\", \"cherry\")\n",
        "tuple2 = (1, 5, 7, 9, 3)\n",
        "tuple3 = (True, False, False)\n",
        "tuple4 =('Hello', 7)"
      ],
      "metadata": {
        "id": "WHsxcgiNQFzM"
      },
      "execution_count": null,
      "outputs": []
    },
    {
      "cell_type": "code",
      "source": [
        "empty_tuple = tuple()"
      ],
      "metadata": {
        "id": "W_LPZpb6QFvk"
      },
      "execution_count": null,
      "outputs": []
    },
    {
      "cell_type": "code",
      "source": [
        "t1=tuple((4,5,6))\n",
        "type(t1)\n",
        "# t1= (4,5,6)"
      ],
      "metadata": {
        "colab": {
          "base_uri": "https://localhost:8080/"
        },
        "id": "YFhCtzW7RN58",
        "outputId": "dfe0404f-3823-4b04-bf9f-88f7c0fa4996"
      },
      "execution_count": null,
      "outputs": [
        {
          "output_type": "execute_result",
          "data": {
            "text/plain": [
              "tuple"
            ]
          },
          "metadata": {},
          "execution_count": 29
        }
      ]
    },
    {
      "cell_type": "code",
      "source": [
        "thistuple = tuple(\"apple\", \"banana\", \"cherry\") # note the double round-brackets\n",
        "print(thistuple)\n",
        "print(type(thistuple))"
      ],
      "metadata": {
        "colab": {
          "base_uri": "https://localhost:8080/",
          "height": 200
        },
        "id": "qRclPYuDRN2n",
        "outputId": "0d25d93f-c200-485c-85e7-eb5f4d088cb8"
      },
      "execution_count": null,
      "outputs": [
        {
          "output_type": "error",
          "ename": "TypeError",
          "evalue": "ignored",
          "traceback": [
            "\u001b[0;31m---------------------------------------------------------------------------\u001b[0m",
            "\u001b[0;31mTypeError\u001b[0m                                 Traceback (most recent call last)",
            "\u001b[0;32m<ipython-input-30-6179202f6db4>\u001b[0m in \u001b[0;36m<cell line: 1>\u001b[0;34m()\u001b[0m\n\u001b[0;32m----> 1\u001b[0;31m \u001b[0mthistuple\u001b[0m \u001b[0;34m=\u001b[0m \u001b[0mtuple\u001b[0m\u001b[0;34m(\u001b[0m\u001b[0;34m\"apple\"\u001b[0m\u001b[0;34m,\u001b[0m \u001b[0;34m\"banana\"\u001b[0m\u001b[0;34m,\u001b[0m \u001b[0;34m\"cherry\"\u001b[0m\u001b[0;34m)\u001b[0m \u001b[0;31m# note the double round-brackets\u001b[0m\u001b[0;34m\u001b[0m\u001b[0;34m\u001b[0m\u001b[0m\n\u001b[0m\u001b[1;32m      2\u001b[0m \u001b[0mprint\u001b[0m\u001b[0;34m(\u001b[0m\u001b[0mthistuple\u001b[0m\u001b[0;34m)\u001b[0m\u001b[0;34m\u001b[0m\u001b[0;34m\u001b[0m\u001b[0m\n\u001b[1;32m      3\u001b[0m \u001b[0mprint\u001b[0m\u001b[0;34m(\u001b[0m\u001b[0mtype\u001b[0m\u001b[0;34m(\u001b[0m\u001b[0mthistuple\u001b[0m\u001b[0;34m)\u001b[0m\u001b[0;34m)\u001b[0m\u001b[0;34m\u001b[0m\u001b[0;34m\u001b[0m\u001b[0m\n",
            "\u001b[0;31mTypeError\u001b[0m: tuple expected at most 1 argument, got 3"
          ]
        }
      ]
    },
    {
      "cell_type": "code",
      "source": [
        "thistuple = tuple((\"apple\", \"banana\", \"cherry\")) # note the double round-brackets\n",
        "print(thistuple)\n",
        "print(type(thistuple))\n",
        "thistuple[0]"
      ],
      "metadata": {
        "colab": {
          "base_uri": "https://localhost:8080/",
          "height": 70
        },
        "id": "zwPK6JkRRNzK",
        "outputId": "d480a0d6-f3c8-44fa-d787-613ec9eaaee6"
      },
      "execution_count": null,
      "outputs": [
        {
          "output_type": "stream",
          "name": "stdout",
          "text": [
            "('apple', 'banana', 'cherry')\n",
            "<class 'tuple'>\n"
          ]
        },
        {
          "output_type": "execute_result",
          "data": {
            "text/plain": [
              "'apple'"
            ],
            "application/vnd.google.colaboratory.intrinsic+json": {
              "type": "string"
            }
          },
          "metadata": {},
          "execution_count": 31
        }
      ]
    },
    {
      "cell_type": "code",
      "source": [
        "thistuple = (\"apple\", \"banana\", \"cherry\")\n",
        "print(\"apple\" in thistuple)"
      ],
      "metadata": {
        "colab": {
          "base_uri": "https://localhost:8080/"
        },
        "id": "Y9s8vCaFRNu5",
        "outputId": "9e4ff7e6-f4a0-4b7b-b207-692a5d6b401c"
      },
      "execution_count": null,
      "outputs": [
        {
          "output_type": "stream",
          "name": "stdout",
          "text": [
            "True\n"
          ]
        }
      ]
    },
    {
      "cell_type": "code",
      "source": [
        "thistuple = (\"apple\", \"banana\", \"cherry\")\n",
        "if \"apple\" in thistuple:\n",
        "    print(\"Yes, 'apple' is in the fruits tuple\")"
      ],
      "metadata": {
        "colab": {
          "base_uri": "https://localhost:8080/"
        },
        "id": "39F39XpaRNo4",
        "outputId": "e486bc97-7103-4c26-b88e-94acbd1c92f6"
      },
      "execution_count": null,
      "outputs": [
        {
          "output_type": "stream",
          "name": "stdout",
          "text": [
            "Yes, 'apple' is in the fruits tuple\n"
          ]
        }
      ]
    },
    {
      "cell_type": "code",
      "source": [
        "# Tuples are immutable\n",
        "x = (\"apple\", \"banana\", \"cherry\")\n",
        "print(id(x))\n",
        "print(type(x))\n",
        "y = list(x)\n",
        "print(type(y))\n",
        "print(y)\n",
        "y[1] = \"kiwi\"\n",
        "print('y list is', y)\n",
        "x = tuple(y)\n",
        "\n",
        "print(x)\n",
        "print(id(x))"
      ],
      "metadata": {
        "colab": {
          "base_uri": "https://localhost:8080/"
        },
        "id": "9LDe0Nx5RiqY",
        "outputId": "8243edeb-9cc8-4717-d36b-7e30db7dfcc6"
      },
      "execution_count": null,
      "outputs": [
        {
          "output_type": "stream",
          "name": "stdout",
          "text": [
            "140185460860032\n",
            "<class 'tuple'>\n",
            "<class 'list'>\n",
            "['apple', 'banana', 'cherry']\n",
            "y list is ['apple', 'kiwi', 'cherry']\n",
            "('apple', 'kiwi', 'cherry')\n",
            "140185734559424\n"
          ]
        }
      ]
    },
    {
      "cell_type": "code",
      "source": [
        "thistuple = (\"apple\", \"banana\", \"cherry\")\n",
        "y = list(thistuple)\n",
        "y.append(\"orange\")\n",
        "thistuple = tuple(y)"
      ],
      "metadata": {
        "id": "KXZNV6f5Rimg"
      },
      "execution_count": null,
      "outputs": []
    },
    {
      "cell_type": "code",
      "source": [
        "thistuple = (\"apple\", \"banana\", \"cherry\")\n",
        "y = (\"orange\",)\n",
        "thistuple = thistuple +y\n",
        "\n",
        "print(thistuple)"
      ],
      "metadata": {
        "colab": {
          "base_uri": "https://localhost:8080/"
        },
        "id": "Gdpk_aPJRijM",
        "outputId": "9d6bfa3a-4cb3-4017-bc67-2b68d3c4761b"
      },
      "execution_count": null,
      "outputs": [
        {
          "output_type": "stream",
          "name": "stdout",
          "text": [
            "('apple', 'banana', 'cherry', 'orange')\n"
          ]
        }
      ]
    },
    {
      "cell_type": "code",
      "execution_count": null,
      "metadata": {
        "colab": {
          "base_uri": "https://localhost:8080/"
        },
        "id": "MCa9bAcOMH9S",
        "outputId": "18e55f31-360f-4999-9e65-7d1c5e0bf17f"
      },
      "outputs": [
        {
          "output_type": "execute_result",
          "data": {
            "text/plain": [
              "tuple"
            ]
          },
          "metadata": {},
          "execution_count": 1
        }
      ],
      "source": [
        "tuple_1=(11,12,13)\n",
        "type(tuple_1)"
      ]
    },
    {
      "cell_type": "code",
      "source": [],
      "metadata": {
        "id": "BJgr-jXCR7pV"
      },
      "execution_count": null,
      "outputs": []
    },
    {
      "cell_type": "code",
      "source": [
        "list_1= [(11,22),(54,65)]"
      ],
      "metadata": {
        "id": "1KBgSnmMMP_3"
      },
      "execution_count": null,
      "outputs": []
    },
    {
      "cell_type": "code",
      "source": [
        "len(list_1)"
      ],
      "metadata": {
        "colab": {
          "base_uri": "https://localhost:8080/"
        },
        "id": "nFSolZxMMZCo",
        "outputId": "4566f51c-d740-46b4-da0a-538d36e01d28"
      },
      "execution_count": null,
      "outputs": [
        {
          "output_type": "execute_result",
          "data": {
            "text/plain": [
              "2"
            ]
          },
          "metadata": {},
          "execution_count": 5
        }
      ]
    },
    {
      "cell_type": "code",
      "source": [
        "for i in list_1:\n",
        "  print(i, type(i))\n"
      ],
      "metadata": {
        "colab": {
          "base_uri": "https://localhost:8080/"
        },
        "id": "FBtv0d1vMiy8",
        "outputId": "5daa8a93-07b8-42a1-95e4-fbe0cbc6a36c"
      },
      "execution_count": null,
      "outputs": [
        {
          "output_type": "stream",
          "name": "stdout",
          "text": [
            "(11, 22) <class 'tuple'>\n",
            "(54, 65) <class 'tuple'>\n"
          ]
        }
      ]
    },
    {
      "cell_type": "code",
      "source": [
        "grades1={103:3.6,\n",
        "         104:5,\n",
        "         105:3,\n",
        "         106:4.5}\n",
        "print(sorted(grades1.keys()))"
      ],
      "metadata": {
        "colab": {
          "base_uri": "https://localhost:8080/"
        },
        "id": "fuaCKETHMtT_",
        "outputId": "8ed77cba-ad33-4180-e66a-a1024f6b74b6"
      },
      "execution_count": null,
      "outputs": [
        {
          "output_type": "stream",
          "name": "stdout",
          "text": [
            "[103, 104, 105, 106]\n"
          ]
        }
      ]
    },
    {
      "cell_type": "code",
      "source": [
        "#Sort & Sorted Difference"
      ],
      "metadata": {
        "id": "RhuchH-wPgrY"
      },
      "execution_count": null,
      "outputs": []
    },
    {
      "cell_type": "code",
      "source": [
        "sciece_grades.update(art_grades)\n",
        "science_grades\n",
        "art_grades"
      ],
      "metadata": {
        "id": "ztkLsiT9PoZ2"
      },
      "execution_count": null,
      "outputs": []
    },
    {
      "cell_type": "code",
      "source": [
        "#Delete\n",
        "#clear- Removing all elements from the dictionary\n",
        "#pop-removes and returns value associated with that"
      ],
      "metadata": {
        "id": "zE43FU5gRlUr"
      },
      "execution_count": null,
      "outputs": []
    },
    {
      "cell_type": "code",
      "source": [],
      "metadata": {
        "id": "xaBky6EuWMCy"
      },
      "execution_count": null,
      "outputs": []
    },
    {
      "cell_type": "code",
      "source": [],
      "metadata": {
        "id": "86lmqN01XA8_"
      },
      "execution_count": null,
      "outputs": []
    },
    {
      "cell_type": "code",
      "source": [],
      "metadata": {
        "id": "g8N6hqVpXA2k"
      },
      "execution_count": null,
      "outputs": []
    },
    {
      "cell_type": "code",
      "source": [],
      "metadata": {
        "id": "i16a-SfSXAbt"
      },
      "execution_count": null,
      "outputs": []
    }
  ]
}