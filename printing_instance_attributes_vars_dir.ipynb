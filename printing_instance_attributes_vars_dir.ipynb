{
 "cells": [
  {
   "cell_type": "code",
   "execution_count": 4,
   "id": "39c8fc40",
   "metadata": {},
   "outputs": [],
   "source": [
    "list_1= [10,20]"
   ]
  },
  {
   "cell_type": "code",
   "execution_count": 7,
   "id": "2a25a3a5",
   "metadata": {},
   "outputs": [],
   "source": [
    "list_2= [40,20]"
   ]
  },
  {
   "cell_type": "code",
   "execution_count": 20,
   "id": "ca6a307f",
   "metadata": {},
   "outputs": [
    {
     "data": {
      "text/plain": [
       "['__add__',\n",
       " '__class__',\n",
       " '__class_getitem__',\n",
       " '__contains__',\n",
       " '__delattr__',\n",
       " '__delitem__',\n",
       " '__dir__',\n",
       " '__doc__',\n",
       " '__eq__',\n",
       " '__format__',\n",
       " '__ge__',\n",
       " '__getattribute__',\n",
       " '__getitem__',\n",
       " '__gt__',\n",
       " '__hash__',\n",
       " '__iadd__',\n",
       " '__imul__',\n",
       " '__init__',\n",
       " '__init_subclass__',\n",
       " '__iter__',\n",
       " '__le__',\n",
       " '__len__',\n",
       " '__lt__',\n",
       " '__mul__',\n",
       " '__ne__',\n",
       " '__new__',\n",
       " '__reduce__',\n",
       " '__reduce_ex__',\n",
       " '__repr__',\n",
       " '__reversed__',\n",
       " '__rmul__',\n",
       " '__setattr__',\n",
       " '__setitem__',\n",
       " '__sizeof__',\n",
       " '__str__',\n",
       " '__subclasshook__',\n",
       " 'append',\n",
       " 'clear',\n",
       " 'copy',\n",
       " 'count',\n",
       " 'extend',\n",
       " 'index',\n",
       " 'insert',\n",
       " 'pop',\n",
       " 'remove',\n",
       " 'reverse',\n",
       " 'sort']"
      ]
     },
     "execution_count": 20,
     "metadata": {},
     "output_type": "execute_result"
    }
   ],
   "source": [
    "dir(list_2)"
   ]
  },
  {
   "cell_type": "code",
   "execution_count": null,
   "id": "1094e6cd",
   "metadata": {},
   "outputs": [],
   "source": [
    "list_2."
   ]
  },
  {
   "cell_type": "code",
   "execution_count": 6,
   "id": "bb15bf04",
   "metadata": {},
   "outputs": [
    {
     "name": "stdout",
     "output_type": "stream",
     "text": [
      "<class 'list'>\n"
     ]
    }
   ],
   "source": [
    "print(type(list_1))"
   ]
  },
  {
   "cell_type": "code",
   "execution_count": 10,
   "id": "4ebab1e7",
   "metadata": {},
   "outputs": [
    {
     "name": "stdout",
     "output_type": "stream",
     "text": [
      "[]\n"
     ]
    }
   ],
   "source": [
    "list_3 = list()\n",
    "print(list_3)"
   ]
  },
  {
   "cell_type": "code",
   "execution_count": 22,
   "id": "ab98e725",
   "metadata": {},
   "outputs": [],
   "source": [
    "for something in list_3: \n",
    "    pass"
   ]
  },
  {
   "cell_type": "code",
   "execution_count": 17,
   "id": "3bad4510",
   "metadata": {},
   "outputs": [],
   "source": [
    "class student: \n",
    "    name=\"\"\n",
    "    age= 16"
   ]
  },
  {
   "cell_type": "code",
   "execution_count": 9,
   "id": "526aad44",
   "metadata": {},
   "outputs": [],
   "source": [
    "s1= student()"
   ]
  },
  {
   "cell_type": "code",
   "execution_count": 11,
   "id": "8967d45f",
   "metadata": {},
   "outputs": [],
   "source": [
    "s1.age=21\n",
    "s1.name= \"Ram\""
   ]
  },
  {
   "cell_type": "code",
   "execution_count": 12,
   "id": "6b27c017",
   "metadata": {},
   "outputs": [
    {
     "name": "stdout",
     "output_type": "stream",
     "text": [
      "21 Ram\n"
     ]
    }
   ],
   "source": [
    "print(s1.age, s1.name)"
   ]
  },
  {
   "cell_type": "code",
   "execution_count": 13,
   "id": "8c2e6c6b",
   "metadata": {},
   "outputs": [
    {
     "data": {
      "text/plain": [
       "{'age': 21, 'name': 'Ram'}"
      ]
     },
     "execution_count": 13,
     "metadata": {},
     "output_type": "execute_result"
    }
   ],
   "source": [
    "vars(s1)"
   ]
  },
  {
   "cell_type": "code",
   "execution_count": 14,
   "id": "4d196f34",
   "metadata": {},
   "outputs": [],
   "source": [
    "s2=student()\n",
    "s2.name= \"Krishna\""
   ]
  },
  {
   "cell_type": "code",
   "execution_count": 18,
   "id": "80b6c588",
   "metadata": {},
   "outputs": [
    {
     "data": {
      "text/plain": [
       "{'name': 'Krishna'}"
      ]
     },
     "execution_count": 18,
     "metadata": {},
     "output_type": "execute_result"
    }
   ],
   "source": [
    "vars(s2)"
   ]
  },
  {
   "cell_type": "code",
   "execution_count": 19,
   "id": "bc6ec0cc",
   "metadata": {},
   "outputs": [
    {
     "name": "stdout",
     "output_type": "stream",
     "text": [
      "16\n"
     ]
    }
   ],
   "source": [
    "print(s2.age)"
   ]
  },
  {
   "cell_type": "code",
   "execution_count": 21,
   "id": "1c703f16",
   "metadata": {},
   "outputs": [
    {
     "data": {
      "text/plain": [
       "['__class__',\n",
       " '__delattr__',\n",
       " '__dict__',\n",
       " '__dir__',\n",
       " '__doc__',\n",
       " '__eq__',\n",
       " '__format__',\n",
       " '__ge__',\n",
       " '__getattribute__',\n",
       " '__gt__',\n",
       " '__hash__',\n",
       " '__init__',\n",
       " '__init_subclass__',\n",
       " '__le__',\n",
       " '__lt__',\n",
       " '__module__',\n",
       " '__ne__',\n",
       " '__new__',\n",
       " '__reduce__',\n",
       " '__reduce_ex__',\n",
       " '__repr__',\n",
       " '__setattr__',\n",
       " '__sizeof__',\n",
       " '__str__',\n",
       " '__subclasshook__',\n",
       " '__weakref__',\n",
       " 'age',\n",
       " 'name']"
      ]
     },
     "execution_count": 21,
     "metadata": {},
     "output_type": "execute_result"
    }
   ],
   "source": [
    "dir(s1)"
   ]
  },
  {
   "cell_type": "code",
   "execution_count": 3,
   "id": "ba9ddeef",
   "metadata": {},
   "outputs": [],
   "source": [
    "s1.name = \"K\"\n",
    "s1.age = 23"
   ]
  },
  {
   "cell_type": "code",
   "execution_count": 5,
   "id": "d53a83fb",
   "metadata": {},
   "outputs": [
    {
     "name": "stdout",
     "output_type": "stream",
     "text": [
      "{'name': 'K', 'age': 23}\n",
      "['__class__', '__delattr__', '__dict__', '__dir__', '__doc__', '__eq__', '__format__', '__ge__', '__getattribute__', '__gt__', '__hash__', '__init__', '__init_subclass__', '__le__', '__lt__', '__module__', '__ne__', '__new__', '__reduce__', '__reduce_ex__', '__repr__', '__setattr__', '__sizeof__', '__str__', '__subclasshook__', '__weakref__', 'age', 'name']\n"
     ]
    }
   ],
   "source": [
    "print(vars(s1))\n",
    "print(dir(s1))"
   ]
  }
 ],
 "metadata": {
  "kernelspec": {
   "display_name": "Python 3 (ipykernel)",
   "language": "python",
   "name": "python3"
  },
  "language_info": {
   "codemirror_mode": {
    "name": "ipython",
    "version": 3
   },
   "file_extension": ".py",
   "mimetype": "text/x-python",
   "name": "python",
   "nbconvert_exporter": "python",
   "pygments_lexer": "ipython3",
   "version": "3.9.13"
  }
 },
 "nbformat": 4,
 "nbformat_minor": 5
}
