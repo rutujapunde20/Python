{
  "nbformat": 4,
  "nbformat_minor": 0,
  "metadata": {
    "colab": {
      "provenance": []
    },
    "kernelspec": {
      "name": "python3",
      "display_name": "Python 3"
    },
    "language_info": {
      "name": "python"
    }
  },
  "cells": [
    {
      "cell_type": "markdown",
      "source": [
        "Control statement"
      ],
      "metadata": {
        "id": "W4mc_M1n8Yqn"
      }
    },
    {
      "cell_type": "code",
      "source": [
        "k=range(3,10)"
      ],
      "metadata": {
        "id": "8acu50RP8dkN"
      },
      "execution_count": null,
      "outputs": []
    },
    {
      "cell_type": "code",
      "source": [
        "k"
      ],
      "metadata": {
        "colab": {
          "base_uri": "https://localhost:8080/"
        },
        "id": "S2TeRKfL8rT2",
        "outputId": "c1b47d55-66a0-42b9-9be3-4ac854555219"
      },
      "execution_count": null,
      "outputs": [
        {
          "output_type": "execute_result",
          "data": {
            "text/plain": [
              "range(3, 10)"
            ]
          },
          "metadata": {},
          "execution_count": 2
        }
      ]
    },
    {
      "cell_type": "code",
      "source": [
        "for var in k:\n",
        "  print(var)"
      ],
      "metadata": {
        "colab": {
          "base_uri": "https://localhost:8080/"
        },
        "id": "7qxi3ONS8sJU",
        "outputId": "3d4ff3e8-d104-499c-f5b1-664862d06185"
      },
      "execution_count": null,
      "outputs": [
        {
          "output_type": "stream",
          "name": "stdout",
          "text": [
            "10\n",
            "12\n",
            "14\n",
            "16\n",
            "18\n"
          ]
        }
      ]
    },
    {
      "cell_type": "code",
      "source": [
        "k=range(10,20,2)\n",
        "for var in k:\n",
        "  print(var)"
      ],
      "metadata": {
        "colab": {
          "base_uri": "https://localhost:8080/"
        },
        "id": "D39-FVWr87bZ",
        "outputId": "133cd735-7b27-400e-e1d9-2205f9ba5a80"
      },
      "execution_count": null,
      "outputs": [
        {
          "output_type": "stream",
          "name": "stdout",
          "text": [
            "10\n",
            "12\n",
            "14\n",
            "16\n",
            "18\n"
          ]
        }
      ]
    },
    {
      "cell_type": "code",
      "source": [
        "k=range(7)\n",
        "for var in k:\n",
        "  print(var)"
      ],
      "metadata": {
        "colab": {
          "base_uri": "https://localhost:8080/"
        },
        "id": "fOsR4BnF9X0V",
        "outputId": "68757180-bb52-4bd8-ef90-ffd3853bebd1"
      },
      "execution_count": null,
      "outputs": [
        {
          "output_type": "stream",
          "name": "stdout",
          "text": [
            "0\n",
            "1\n",
            "2\n",
            "3\n",
            "4\n",
            "5\n",
            "6\n"
          ]
        }
      ]
    },
    {
      "cell_type": "markdown",
      "source": [
        "Control statement -1)If"
      ],
      "metadata": {
        "id": "63uo4N7P1pEl"
      }
    },
    {
      "cell_type": "code",
      "source": [
        "age=int(input(\"Enter the age\"))\n",
        "if age>18:\n",
        "  print(\"You can vote\")\n",
        "print(\"Hello\")"
      ],
      "metadata": {
        "colab": {
          "base_uri": "https://localhost:8080/"
        },
        "id": "92Qk3x9y16WH",
        "outputId": "7485e40b-b903-4ab2-cbec-df3deb6199d5"
      },
      "execution_count": null,
      "outputs": [
        {
          "output_type": "stream",
          "name": "stdout",
          "text": [
            "Enter the age45\n",
            "You can vote\n",
            "Hello\n"
          ]
        }
      ]
    },
    {
      "cell_type": "code",
      "source": [
        "age=int(input(\"Enter the age\"))\n",
        "if age>18:\n",
        "  print(\"You can vote\")\n",
        "  print(\"Hello\")"
      ],
      "metadata": {
        "colab": {
          "base_uri": "https://localhost:8080/"
        },
        "id": "k8OfyDUH2ovy",
        "outputId": "baf62fb3-cd15-4d41-835a-780bfca863c7"
      },
      "execution_count": null,
      "outputs": [
        {
          "name": "stdout",
          "output_type": "stream",
          "text": [
            "Enter the age5\n"
          ]
        }
      ]
    },
    {
      "cell_type": "code",
      "source": [
        "age=int(input(\"Enter the age\"))\n",
        "if age>18:\n",
        "  print(\"You can vote\")\n",
        "  print(\"Your age is greater than 18\")\n",
        "\n",
        "print(\"The day is awesome\")"
      ],
      "metadata": {
        "colab": {
          "base_uri": "https://localhost:8080/"
        },
        "id": "qQUPgEhS4DhV",
        "outputId": "4035839e-3f6f-47fe-9664-899ac1846362"
      },
      "execution_count": null,
      "outputs": [
        {
          "output_type": "stream",
          "name": "stdout",
          "text": [
            "Enter the age41\n",
            "You can vote\n",
            "Your age is greater than 18\n",
            "The day is awesome\n"
          ]
        }
      ]
    },
    {
      "cell_type": "code",
      "source": [
        "age=int(input(\"Enter the age\"))\n",
        "if age>18:\n",
        "  print(\"You can vote\")\n",
        "  print(\"Your age is greater than 18\")\n",
        "\n",
        "print(\"Day is awesome\")"
      ],
      "metadata": {
        "colab": {
          "base_uri": "https://localhost:8080/"
        },
        "id": "Uv1jI0Nb4Xi0",
        "outputId": "10c8ac7a-1892-4c2b-9ab6-fa91bf429392"
      },
      "execution_count": null,
      "outputs": [
        {
          "output_type": "stream",
          "name": "stdout",
          "text": [
            "Enter the age2\n",
            "Day is awesome\n"
          ]
        }
      ]
    },
    {
      "cell_type": "markdown",
      "source": [
        "If-Else"
      ],
      "metadata": {
        "id": "hJK8LCqG5WLK"
      }
    },
    {
      "cell_type": "code",
      "source": [
        "age=int(input(\"Enter the age\"))\n",
        "if age>18:\n",
        "  print(\"You can vote\")\n",
        "else:\n",
        "  print(\"You can't Vote\")"
      ],
      "metadata": {
        "colab": {
          "base_uri": "https://localhost:8080/"
        },
        "id": "9NbIVfdi4cfc",
        "outputId": "9bdd2ff3-595b-4ae2-aa60-7cbf66f0dbb2"
      },
      "execution_count": null,
      "outputs": [
        {
          "output_type": "stream",
          "name": "stdout",
          "text": [
            "Enter the age5\n",
            "You can't Vote\n"
          ]
        }
      ]
    },
    {
      "cell_type": "code",
      "source": [
        "height=float(input(\"Enter the Height\"))\n",
        "if height<4:\n",
        "  print(\"Short\")\n",
        "elif height<5:\n",
        "  print(\"Average\")\n",
        "else:\n",
        "  print(\"Tall\")"
      ],
      "metadata": {
        "colab": {
          "base_uri": "https://localhost:8080/"
        },
        "id": "UATi1XjJ5JfO",
        "outputId": "a160ebd7-e420-40ba-f6ce-7298d7c3433f"
      },
      "execution_count": null,
      "outputs": [
        {
          "output_type": "stream",
          "name": "stdout",
          "text": [
            "Enter the Height5\n",
            "Tall\n"
          ]
        }
      ]
    },
    {
      "cell_type": "code",
      "source": [
        "name =input(\"Enter name \")\n",
        "print(f\"Hello,{name}\")   #f-string in python"
      ],
      "metadata": {
        "colab": {
          "base_uri": "https://localhost:8080/"
        },
        "id": "VPpsj6Oo9ZI-",
        "outputId": "630bcb8c-30a1-4068-9845-ae5f3702999f"
      },
      "execution_count": null,
      "outputs": [
        {
          "output_type": "stream",
          "name": "stdout",
          "text": [
            "Enter name Rutuja\n",
            "Hello,Rutuja\n"
          ]
        }
      ]
    },
    {
      "cell_type": "code",
      "source": [
        "name =input(\"Enter name \")\n",
        "print(f\" Hello,{name}.\")"
      ],
      "metadata": {
        "colab": {
          "base_uri": "https://localhost:8080/"
        },
        "id": "VLWETey99myc",
        "outputId": "315dd1d5-47db-423a-c2a9-cea59c9f66c2"
      },
      "execution_count": null,
      "outputs": [
        {
          "output_type": "stream",
          "name": "stdout",
          "text": [
            "Enter name Rutuja\n",
            " Hello,Rutuja.\n"
          ]
        }
      ]
    },
    {
      "cell_type": "code",
      "source": [
        "ht=float(input(\"Enter the Height \"))\n",
        "if height<4:\n",
        "  print(f\" Height Entered is {ht}. Short\")\n",
        "elif height<5:\n",
        "  print(f\" Height Entered is {ht}. Average\")\n",
        "else:\n",
        "  print(f\" Height Entered is {ht}. Tall\")"
      ],
      "metadata": {
        "colab": {
          "base_uri": "https://localhost:8080/"
        },
        "id": "ovkFp4NH-YJF",
        "outputId": "eac58e66-3a90-400c-d735-e2f3b16cdd96"
      },
      "execution_count": null,
      "outputs": [
        {
          "output_type": "stream",
          "name": "stdout",
          "text": [
            "Enter the Height 4.5\n",
            " Height Entered is 4.5. Average\n"
          ]
        }
      ]
    },
    {
      "cell_type": "markdown",
      "source": [
        "For Loop-\n",
        "used to repeat a block of instructions/statements mutiple numbers of times(most common use case for beginneers)\n",
        "\n",
        "it is used to iterate over a sequence of items as well (list,sets,tuple,string)"
      ],
      "metadata": {
        "id": "1k3bWrtpBGoI"
      }
    },
    {
      "cell_type": "code",
      "source": [
        "str_1=\"HELLO\""
      ],
      "metadata": {
        "id": "2-4tOFvHBkjC"
      },
      "execution_count": null,
      "outputs": []
    },
    {
      "cell_type": "code",
      "source": [
        "for char in str_1:\n",
        "  print(char)"
      ],
      "metadata": {
        "colab": {
          "base_uri": "https://localhost:8080/"
        },
        "id": "02h231ukBvx3",
        "outputId": "7324e2b7-d735-44bc-a642-d8346fa6d13a"
      },
      "execution_count": null,
      "outputs": [
        {
          "output_type": "stream",
          "name": "stdout",
          "text": [
            "H\n",
            "E\n",
            "L\n",
            "L\n",
            "O\n"
          ]
        }
      ]
    },
    {
      "cell_type": "code",
      "source": [
        "for anything in str_1:\n",
        "  print(anything)"
      ],
      "metadata": {
        "colab": {
          "base_uri": "https://localhost:8080/"
        },
        "id": "qaYF8c13CRfo",
        "outputId": "837ccdb3-42c3-4db7-adec-f91b9e7850fa"
      },
      "execution_count": null,
      "outputs": [
        {
          "output_type": "stream",
          "name": "stdout",
          "text": [
            "H\n",
            "E\n",
            "L\n",
            "L\n",
            "O\n"
          ]
        }
      ]
    },
    {
      "cell_type": "code",
      "source": [
        "for anything in str_1:\n",
        "  print(anything, end=\"\")"
      ],
      "metadata": {
        "colab": {
          "base_uri": "https://localhost:8080/"
        },
        "id": "pLtxcadACYvE",
        "outputId": "de591491-8b3c-4811-8d4d-ef308e71c294"
      },
      "execution_count": null,
      "outputs": [
        {
          "output_type": "stream",
          "name": "stdout",
          "text": [
            "HELLO"
          ]
        }
      ]
    },
    {
      "cell_type": "code",
      "source": [
        "k=range(10,20,2)\n",
        "for var in k:\n",
        "  print(var)"
      ],
      "metadata": {
        "colab": {
          "base_uri": "https://localhost:8080/"
        },
        "id": "nVy0EICxDPNk",
        "outputId": "548da9ee-f995-4c1f-a126-dc5527519f67"
      },
      "execution_count": null,
      "outputs": [
        {
          "output_type": "stream",
          "name": "stdout",
          "text": [
            "10\n",
            "12\n",
            "14\n",
            "16\n",
            "18\n"
          ]
        }
      ]
    },
    {
      "cell_type": "code",
      "source": [
        "k=range(10,20,2)\n",
        "for anything in k:\n",
        "  print(anything)"
      ],
      "metadata": {
        "colab": {
          "base_uri": "https://localhost:8080/"
        },
        "id": "RknlztywECcH",
        "outputId": "60e0c63f-e5c1-411a-a5a2-7f3bdc631f32"
      },
      "execution_count": null,
      "outputs": [
        {
          "output_type": "stream",
          "name": "stdout",
          "text": [
            "10\n",
            "12\n",
            "14\n",
            "16\n",
            "18\n"
          ]
        }
      ]
    },
    {
      "cell_type": "code",
      "source": [
        "k=range(10,20,2)\n",
        "for num in k:\n",
        "  print(num)"
      ],
      "metadata": {
        "colab": {
          "base_uri": "https://localhost:8080/"
        },
        "id": "48FZROohELv3",
        "outputId": "234956b1-c03c-403e-a016-9ec4defa6ba9"
      },
      "execution_count": null,
      "outputs": [
        {
          "output_type": "stream",
          "name": "stdout",
          "text": [
            "10\n",
            "12\n",
            "14\n",
            "16\n",
            "18\n"
          ]
        }
      ]
    },
    {
      "cell_type": "code",
      "source": [
        "k=range(10,20)\n",
        "for num in k:\n",
        "  print(num)"
      ],
      "metadata": {
        "colab": {
          "base_uri": "https://localhost:8080/"
        },
        "id": "L9hgWP7HESSX",
        "outputId": "4c0fb882-5ace-4a97-dd50-b61f5d35784d"
      },
      "execution_count": null,
      "outputs": [
        {
          "output_type": "stream",
          "name": "stdout",
          "text": [
            "10\n",
            "11\n",
            "12\n",
            "13\n",
            "14\n",
            "15\n",
            "16\n",
            "17\n",
            "18\n",
            "19\n"
          ]
        }
      ]
    },
    {
      "cell_type": "code",
      "source": [
        "k=range(10,20,3)\n",
        "for num in k:\n",
        "  print(num)"
      ],
      "metadata": {
        "colab": {
          "base_uri": "https://localhost:8080/"
        },
        "id": "B_vgTos7EYsN",
        "outputId": "dfbda574-921e-4cf7-ae20-0acc5f83c337"
      },
      "execution_count": null,
      "outputs": [
        {
          "output_type": "stream",
          "name": "stdout",
          "text": [
            "10\n",
            "13\n",
            "16\n",
            "19\n"
          ]
        }
      ]
    },
    {
      "cell_type": "code",
      "source": [
        "k=range(10)\n",
        "for num in k:\n",
        "  print(num)"
      ],
      "metadata": {
        "colab": {
          "base_uri": "https://localhost:8080/"
        },
        "id": "L1E3IzX1EgXP",
        "outputId": "27d45056-26f4-46f4-9f5d-0f48baeb8d3a"
      },
      "execution_count": null,
      "outputs": [
        {
          "output_type": "stream",
          "name": "stdout",
          "text": [
            "0\n",
            "1\n",
            "2\n",
            "3\n",
            "4\n",
            "5\n",
            "6\n",
            "7\n",
            "8\n",
            "9\n"
          ]
        }
      ]
    },
    {
      "cell_type": "code",
      "source": [
        "#[start , end ,step length]"
      ],
      "metadata": {
        "id": "wQYLWgpsFMQC"
      },
      "execution_count": null,
      "outputs": []
    },
    {
      "cell_type": "code",
      "source": [
        "for num in range(100,150,10):\n",
        "  print(num)"
      ],
      "metadata": {
        "colab": {
          "base_uri": "https://localhost:8080/"
        },
        "id": "NFd-F2ewFmG4",
        "outputId": "8e4bc0e2-abdc-4bb1-9086-c9c5e95be6d6"
      },
      "execution_count": null,
      "outputs": [
        {
          "output_type": "stream",
          "name": "stdout",
          "text": [
            "100\n",
            "110\n",
            "120\n",
            "130\n",
            "140\n"
          ]
        }
      ]
    },
    {
      "cell_type": "code",
      "source": [
        "for char in \"Hey there!\":\n",
        "  print(char)"
      ],
      "metadata": {
        "colab": {
          "base_uri": "https://localhost:8080/"
        },
        "id": "EgzZlierFvtl",
        "outputId": "239b9d78-77e6-457c-de34-d58f474c59d6"
      },
      "execution_count": null,
      "outputs": [
        {
          "output_type": "stream",
          "name": "stdout",
          "text": [
            "H\n",
            "e\n",
            "y\n",
            " \n",
            "t\n",
            "h\n",
            "e\n",
            "r\n",
            "e\n",
            "!\n",
            " \n"
          ]
        }
      ]
    },
    {
      "cell_type": "code",
      "source": [
        "for char in \"Hey there!\":\n",
        "  print(char, end=\" \")"
      ],
      "metadata": {
        "colab": {
          "base_uri": "https://localhost:8080/"
        },
        "id": "cWVWLkDrGSrt",
        "outputId": "b3da0693-a893-4cb0-f9ed-3f6ae69fe878"
      },
      "execution_count": null,
      "outputs": [
        {
          "output_type": "stream",
          "name": "stdout",
          "text": [
            "H e y   t h e r e ! "
          ]
        }
      ]
    },
    {
      "cell_type": "code",
      "source": [
        "for char in \"Hey there!\":\n",
        "  print(char, end=\"\")"
      ],
      "metadata": {
        "colab": {
          "base_uri": "https://localhost:8080/"
        },
        "id": "ibgfplR_Gg_K",
        "outputId": "ddbb05e1-9b65-42cb-84fc-a8a63fa0b9af"
      },
      "execution_count": null,
      "outputs": [
        {
          "output_type": "stream",
          "name": "stdout",
          "text": [
            "Hey there!"
          ]
        }
      ]
    },
    {
      "cell_type": "code",
      "source": [
        "for i in range (3):\n",
        "  for j in range (3):\n",
        "    print(i,j)\n",
        "    print(\"***\")\n",
        "\n"
      ],
      "metadata": {
        "colab": {
          "base_uri": "https://localhost:8080/"
        },
        "id": "btEVKPZRPswy",
        "outputId": "f6928f60-753c-4a15-a2a6-9ef4c254432c"
      },
      "execution_count": null,
      "outputs": [
        {
          "output_type": "stream",
          "name": "stdout",
          "text": [
            "0 0\n",
            "***\n",
            "0 1\n",
            "***\n",
            "0 2\n",
            "***\n",
            "1 0\n",
            "***\n",
            "1 1\n",
            "***\n",
            "1 2\n",
            "***\n",
            "2 0\n",
            "***\n",
            "2 1\n",
            "***\n",
            "2 2\n",
            "***\n"
          ]
        }
      ]
    },
    {
      "cell_type": "code",
      "source": [
        "for i in range(3):\n",
        "  print(i)"
      ],
      "metadata": {
        "colab": {
          "base_uri": "https://localhost:8080/"
        },
        "id": "6mxNHyY6QD2L",
        "outputId": "63704479-21b1-43d9-9ba1-b8463011fdd0"
      },
      "execution_count": null,
      "outputs": [
        {
          "output_type": "stream",
          "name": "stdout",
          "text": [
            "0\n",
            "1\n",
            "2\n"
          ]
        }
      ]
    },
    {
      "cell_type": "code",
      "source": [
        "for j in range(3):\n",
        "  print(j)\n",
        "  print(\"Hello!\")"
      ],
      "metadata": {
        "colab": {
          "base_uri": "https://localhost:8080/"
        },
        "id": "QdCRMJiQdkg2",
        "outputId": "3715ffff-c14b-47c7-8fb4-ceed1964d849"
      },
      "execution_count": null,
      "outputs": [
        {
          "output_type": "stream",
          "name": "stdout",
          "text": [
            "0\n",
            "Hello!\n",
            "1\n",
            "Hello!\n",
            "2\n",
            "Hello!\n"
          ]
        }
      ]
    },
    {
      "cell_type": "code",
      "source": [
        "for j in range(3):\n",
        "  print(j)\n",
        "print(\"Hello!\")"
      ],
      "metadata": {
        "colab": {
          "base_uri": "https://localhost:8080/"
        },
        "id": "xRyypu-sdyHx",
        "outputId": "3fd77584-b717-4043-d77b-ada02b0e6479"
      },
      "execution_count": null,
      "outputs": [
        {
          "output_type": "stream",
          "name": "stdout",
          "text": [
            "0\n",
            "1\n",
            "2\n",
            "Hello!\n"
          ]
        }
      ]
    },
    {
      "cell_type": "code",
      "source": [
        "for j in range(3):\n",
        "  print(j)\n",
        "  print(j+1)\n",
        "  print(\"Hello!\")"
      ],
      "metadata": {
        "colab": {
          "base_uri": "https://localhost:8080/"
        },
        "id": "UhkxhUhBeKWk",
        "outputId": "4a18df59-97da-4a60-94ac-91c35e3e5309"
      },
      "execution_count": null,
      "outputs": [
        {
          "output_type": "stream",
          "name": "stdout",
          "text": [
            "0\n",
            "1\n",
            "Hello!\n",
            "1\n",
            "2\n",
            "Hello!\n",
            "2\n",
            "3\n",
            "Hello!\n"
          ]
        }
      ]
    },
    {
      "cell_type": "code",
      "source": [
        "for i in range(3):\n",
        "  for j in range(3):\n",
        "    print(i,j)\n",
        "    print(\"***\")"
      ],
      "metadata": {
        "colab": {
          "base_uri": "https://localhost:8080/"
        },
        "id": "H0J4KeWQe4ii",
        "outputId": "3d614647-110f-4518-9b96-44302ac499b3"
      },
      "execution_count": null,
      "outputs": [
        {
          "output_type": "stream",
          "name": "stdout",
          "text": [
            "0 0\n",
            "***\n",
            "0 1\n",
            "***\n",
            "0 2\n",
            "***\n",
            "1 0\n",
            "***\n",
            "1 1\n",
            "***\n",
            "1 2\n",
            "***\n",
            "2 0\n",
            "***\n",
            "2 1\n",
            "***\n",
            "2 2\n",
            "***\n"
          ]
        }
      ]
    },
    {
      "cell_type": "code",
      "source": [
        "a=3\n",
        "while(a>0):\n",
        "  print(a)\n",
        "  a=a-1"
      ],
      "metadata": {
        "colab": {
          "base_uri": "https://localhost:8080/"
        },
        "id": "zPlBH2edf2D7",
        "outputId": "77ac4fb4-48a2-4dd8-cb92-6c33a8492919"
      },
      "execution_count": null,
      "outputs": [
        {
          "output_type": "stream",
          "name": "stdout",
          "text": [
            "3\n",
            "2\n",
            "1\n"
          ]
        }
      ]
    },
    {
      "cell_type": "code",
      "source": [
        "a=3\n",
        "b=2\n",
        "c=a-b\n",
        "print(c)"
      ],
      "metadata": {
        "colab": {
          "base_uri": "https://localhost:8080/"
        },
        "id": "4fE5JiiMkkAn",
        "outputId": "77d3a4c1-c439-478c-c746-6221bc05aca9"
      },
      "execution_count": null,
      "outputs": [
        {
          "output_type": "stream",
          "name": "stdout",
          "text": [
            "1\n"
          ]
        }
      ]
    },
    {
      "cell_type": "code",
      "source": [
        "a=a-1\n",
        "print(a)"
      ],
      "metadata": {
        "colab": {
          "base_uri": "https://localhost:8080/"
        },
        "id": "1beDjPidn7Pj",
        "outputId": "df6fd6cf-72f0-476d-a22e-bee841f47d0d"
      },
      "execution_count": null,
      "outputs": [
        {
          "output_type": "stream",
          "name": "stdout",
          "text": [
            "2\n"
          ]
        }
      ]
    },
    {
      "cell_type": "code",
      "source": [
        "5>400 and 44<40"
      ],
      "metadata": {
        "colab": {
          "base_uri": "https://localhost:8080/"
        },
        "id": "qaSf0nBqoTGy",
        "outputId": "26459a00-1c63-4917-99cd-3b575ecd1e7b"
      },
      "execution_count": null,
      "outputs": [
        {
          "output_type": "execute_result",
          "data": {
            "text/plain": [
              "False"
            ]
          },
          "metadata": {},
          "execution_count": 15
        }
      ]
    },
    {
      "cell_type": "code",
      "source": [
        "5<2 and 4>56"
      ],
      "metadata": {
        "colab": {
          "base_uri": "https://localhost:8080/"
        },
        "id": "i-YdueJmoehM",
        "outputId": "a8d0096e-b1e2-456c-cc4f-4a5f7f21c2c0"
      },
      "execution_count": null,
      "outputs": [
        {
          "output_type": "execute_result",
          "data": {
            "text/plain": [
              "False"
            ]
          },
          "metadata": {},
          "execution_count": 16
        }
      ]
    },
    {
      "cell_type": "code",
      "source": [
        "a=10\n",
        "while(a>0):\n",
        "  a=a-1\n",
        "  print(\"Hello\")\n",
        "  if(a<5 and a>1):\n",
        "    continue\n",
        "  print(a)"
      ],
      "metadata": {
        "colab": {
          "base_uri": "https://localhost:8080/"
        },
        "id": "TfL-nlCOoiDl",
        "outputId": "2b221ac0-26d3-4d9c-f097-edcb12600c60"
      },
      "execution_count": null,
      "outputs": [
        {
          "output_type": "stream",
          "name": "stdout",
          "text": [
            "Hello\n",
            "9\n",
            "Hello\n",
            "8\n",
            "Hello\n",
            "7\n",
            "Hello\n",
            "6\n",
            "Hello\n",
            "5\n",
            "Hello\n",
            "Hello\n",
            "Hello\n",
            "Hello\n",
            "1\n",
            "Hello\n",
            "0\n"
          ]
        }
      ]
    },
    {
      "cell_type": "code",
      "source": [
        "a=8\n",
        "while(a>0):\n",
        "  a-=1\n",
        "  if(a<5 and a>1):\n",
        "    break\n",
        "  print(a)\n",
        "print(\"Done\")"
      ],
      "metadata": {
        "id": "YMaSoU-9u-r0",
        "colab": {
          "base_uri": "https://localhost:8080/"
        },
        "outputId": "3d40e684-aff2-4ea1-d580-1630dfc9a8b5"
      },
      "execution_count": null,
      "outputs": [
        {
          "output_type": "stream",
          "name": "stdout",
          "text": [
            "7\n",
            "6\n",
            "5\n",
            "Done\n"
          ]
        }
      ]
    },
    {
      "cell_type": "code",
      "source": [
        "a=8\n",
        "while(a>0):\n",
        "  a-=1\n",
        "  if(a<5 and a>1):\n",
        "    break\n",
        "    print(a)\n",
        "print(\"Done\")"
      ],
      "metadata": {
        "colab": {
          "base_uri": "https://localhost:8080/"
        },
        "id": "br1uHMeCUnaH",
        "outputId": "551a6136-2194-4093-a9e2-d002f3d79bf8"
      },
      "execution_count": null,
      "outputs": [
        {
          "output_type": "stream",
          "name": "stdout",
          "text": [
            "Done\n"
          ]
        }
      ]
    },
    {
      "cell_type": "code",
      "source": [
        "for i in range(5):\n",
        "  if i==3:\n",
        "    break\n",
        "    print(i)"
      ],
      "metadata": {
        "id": "HLkORpqyV8rW"
      },
      "execution_count": null,
      "outputs": []
    },
    {
      "cell_type": "code",
      "source": [],
      "metadata": {
        "id": "ojCB-JjJWGJE"
      },
      "execution_count": null,
      "outputs": []
    }
  ]
}