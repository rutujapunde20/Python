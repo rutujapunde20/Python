{
  "nbformat": 4,
  "nbformat_minor": 0,
  "metadata": {
    "colab": {
      "provenance": []
    },
    "kernelspec": {
      "name": "python3",
      "display_name": "Python 3"
    },
    "language_info": {
      "name": "python"
    }
  },
  "cells": [
    {
      "cell_type": "code",
      "source": [
        "# importing \"copy\" for copy operations\n",
        "import copy\n",
        "\n",
        "# initializing list 1\n",
        "list_1 = [1, 2, [3,5], 4]\n",
        "\n",
        "# using copy to shallow copy\n",
        "list_2 = copy.copy(list_1)\n",
        "\n",
        "# original elements of list\n",
        "print(\"\\n The original elements before shallow copying\")\n",
        "for i in range(0,len(list_1)):\n",
        "    print (list_1[i],end=\" \")\n",
        "list_2[2][0] = 7\n",
        "\n",
        "# checking if change is reflected\n",
        "print (\"\\n LIST1 The original elements after shallow copying\")\n",
        "for i in range(0,len( list_1)):\n",
        "    print (list_1[i],end=\" \")\n",
        "\n",
        "# checking if change is in list_2\n",
        "print (\"\\n LIST2 The original elements after shallow copying\")\n",
        "for i in range(0,len( list_2)):\n",
        "    print (list_2[i],end=\" \")"
      ],
      "metadata": {
        "colab": {
          "base_uri": "https://localhost:8080/"
        },
        "id": "wVJ_1HNQd2MY",
        "outputId": "049407cd-b20a-4a9a-e90c-c765005edd94"
      },
      "execution_count": 1,
      "outputs": [
        {
          "output_type": "stream",
          "name": "stdout",
          "text": [
            "\n",
            " The original elements before shallow copying\n",
            "1 2 [3, 5] 4 \n",
            " LIST1 The original elements after shallow copying\n",
            "1 2 [7, 5] 4 \n",
            " LIST2 The original elements after shallow copying\n",
            "1 2 [7, 5] 4 "
          ]
        }
      ]
    },
    {
      "cell_type": "markdown",
      "source": [
        "Example of shallow copy"
      ],
      "metadata": {
        "id": "CrV-Y4w4eq4C"
      }
    },
    {
      "cell_type": "code",
      "source": [
        "import copy\n",
        "\n",
        "old_list = [[1, 2, 3], [4, 5, 6], [7, 8, 9]]\n",
        "new_list = copy.copy(old_list)\n",
        "\n",
        "print(\"Old list:\", old_list)\n",
        "print(\"New list:\", new_list)"
      ],
      "metadata": {
        "colab": {
          "base_uri": "https://localhost:8080/"
        },
        "id": "iih2-NTZeuXS",
        "outputId": "bb31b6d8-c0e2-4e91-9fad-a62cedcbf564"
      },
      "execution_count": 2,
      "outputs": [
        {
          "output_type": "stream",
          "name": "stdout",
          "text": [
            "Old list: [[1, 2, 3], [4, 5, 6], [7, 8, 9]]\n",
            "New list: [[1, 2, 3], [4, 5, 6], [7, 8, 9]]\n"
          ]
        }
      ]
    },
    {
      "cell_type": "code",
      "execution_count": null,
      "metadata": {
        "colab": {
          "base_uri": "https://localhost:8080/"
        },
        "id": "yVTFGo4i9ddJ",
        "outputId": "763e3db1-d328-4f4c-cec9-7c2cfef47e12"
      },
      "outputs": [
        {
          "output_type": "stream",
          "name": "stdout",
          "text": [
            "Original old_list is [[1, 2, 3], [4, 5, 6], [7, 8, 'a']]\n",
            "Old List: [[1, 2, 3], [4, 5, 6], [7, 8, 99]]\n",
            "ID of Old List: 135471929439232\n",
            "New List: [[1, 2, 3], [4, 5, 6], [7, 8, 99]]\n",
            "ID of New List: 135471929439232\n"
          ]
        }
      ],
      "source": [
        "# Example 1: Copy using = operator\n",
        "old_list = [[1, 2, 3], [4, 5, 6], [7, 8, 'a']]\n",
        "new_list = old_list\n",
        "print(\"Original old_list is\", old_list)\n",
        "new_list[2][2] = 99\n",
        "\n",
        "print('Old List:', old_list)\n",
        "print('ID of Old List:', id(old_list))\n",
        "\n",
        "print('New List:', new_list)\n",
        "print('ID of New List:', id(new_list))"
      ]
    },
    {
      "cell_type": "code",
      "source": [
        "# To confirm that new_list is different from old_list, we try to add new\n",
        "# nested object to original and check it.\n",
        "import copy\n",
        "old_list = [[1, 1, 1], [2, 2, 2], [3, 3, 3]]\n",
        "new_list = copy.copy(old_list)\n",
        "old_list.append([4, 4, 4])\n",
        "print(\"Old list:\", old_list)\n",
        "print(\"New list:\", new_list)\n",
        "# +++++++++++\n",
        "old_list[0][0] = 999\n",
        "print(\"Old list:\", old_list)\n",
        "print(\"New list:\", new_list)"
      ],
      "metadata": {
        "colab": {
          "base_uri": "https://localhost:8080/"
        },
        "id": "HV-epsyI9xJj",
        "outputId": "9de885a9-d011-48cf-e0fd-d1edf834e26f"
      },
      "execution_count": null,
      "outputs": [
        {
          "output_type": "stream",
          "name": "stdout",
          "text": [
            "Old list: [[1, 1, 1], [2, 2, 2], [3, 3, 3], [4, 4, 4]]\n",
            "New list: [[1, 1, 1], [2, 2, 2], [3, 3, 3]]\n",
            "Old list: [[999, 1, 1], [2, 2, 2], [3, 3, 3], [4, 4, 4]]\n",
            "New list: [[999, 1, 1], [2, 2, 2], [3, 3, 3]]\n"
          ]
        }
      ]
    },
    {
      "cell_type": "code",
      "source": [
        "import copy as cp\n",
        "\n",
        "old_list = [[1, 1, 1], [2, 2, 2], [3, 3, 3]]\n",
        "new_list = cp.deepcopy(old_list)\n",
        "\n",
        "old_list[1][0] = 'BB'\n",
        "\n",
        "print(\"Old list:\", old_list)\n",
        "print(\"New list:\", new_list)"
      ],
      "metadata": {
        "colab": {
          "base_uri": "https://localhost:8080/"
        },
        "id": "qfCAL6KLC0Od",
        "outputId": "ef5950e5-dfa1-4050-a828-fe793f0a1227"
      },
      "execution_count": null,
      "outputs": [
        {
          "output_type": "stream",
          "name": "stdout",
          "text": [
            "Old list: [[1, 1, 1], ['BB', 2, 2], [3, 3, 3]]\n",
            "New list: [[1, 1, 1], [2, 2, 2], [3, 3, 3]]\n"
          ]
        }
      ]
    },
    {
      "cell_type": "code",
      "source": [
        "print(id(old_list[1]))\n",
        "print(id(new_list[1]))"
      ],
      "metadata": {
        "colab": {
          "base_uri": "https://localhost:8080/"
        },
        "id": "JR5sZw3Egk50",
        "outputId": "d922bf6e-7b32-4af9-fbf6-1d8ac4317f84"
      },
      "execution_count": 3,
      "outputs": [
        {
          "output_type": "stream",
          "name": "stdout",
          "text": [
            "140414164980096\n",
            "140414164980096\n"
          ]
        }
      ]
    },
    {
      "cell_type": "code",
      "source": [
        "print(id(old_list[0]))\n",
        "print(id(new_list[0]))"
      ],
      "metadata": {
        "colab": {
          "base_uri": "https://localhost:8080/"
        },
        "id": "ca2mieUbgt1J",
        "outputId": "f845fdcc-552c-4f91-8e7e-aab0e248275e"
      },
      "execution_count": 4,
      "outputs": [
        {
          "output_type": "stream",
          "name": "stdout",
          "text": [
            "140413947608128\n",
            "140413947608128\n"
          ]
        }
      ]
    },
    {
      "cell_type": "code",
      "source": [
        "# 1. Check whether a number is even\n",
        "# 2. If a number is even, then add 10 to it\n",
        "# and insert that number to a new_list\n",
        "\n",
        "# Without using List comprehension\n",
        "my_list = [1,2,3,4,5,6,7,8,9,10]\n",
        "\n",
        "new_list = []\n",
        "for number in my_list:\n",
        "  if number % 2 == 0:\n",
        "    new_list.append(number)\n",
        "\n",
        "print(new_list)"
      ],
      "metadata": {
        "colab": {
          "base_uri": "https://localhost:8080/"
        },
        "id": "LWb9HFypD-X1",
        "outputId": "ae236feb-0891-433b-f319-d987aac7610d"
      },
      "execution_count": null,
      "outputs": [
        {
          "output_type": "stream",
          "name": "stdout",
          "text": [
            "[2, 4, 6, 8, 10]\n"
          ]
        }
      ]
    },
    {
      "cell_type": "code",
      "source": [
        "# Using List comprehension\n",
        "my_list = [1,2,3,4,5,6,7,8,9,10]\n",
        "new_list = [number for number in my_list if number % 2 == 0]\n",
        "print(new_list)"
      ],
      "metadata": {
        "colab": {
          "base_uri": "https://localhost:8080/"
        },
        "id": "kqEgAnxtIajI",
        "outputId": "21cd3b25-aadc-45c7-aad9-726e6e7931b6"
      },
      "execution_count": null,
      "outputs": [
        {
          "output_type": "stream",
          "name": "stdout",
          "text": [
            "[2, 4, 6, 8, 10]\n"
          ]
        }
      ]
    },
    {
      "cell_type": "code",
      "source": [
        "my_list = [1, 2, 3, 4, 5, 6, 7, 8, 9, 10]\n",
        "new_list = [number**2 if number % 2 == 0 else number**3 for number in my_list]\n",
        "print(new_list)"
      ],
      "metadata": {
        "colab": {
          "base_uri": "https://localhost:8080/"
        },
        "id": "koX_oquTIjus",
        "outputId": "627c9006-6821-47ce-a219-1658665a6726"
      },
      "execution_count": null,
      "outputs": [
        {
          "output_type": "stream",
          "name": "stdout",
          "text": [
            "[1, 4, 27, 16, 125, 36, 343, 64, 729, 100]\n"
          ]
        }
      ]
    },
    {
      "cell_type": "code",
      "source": [
        "# importing \"copy\" for copy operations\n",
        "import copy\n",
        "\n",
        "# initializing list 1\n",
        "list_1 = [1, 2, [3,5], 4]\n",
        "\n",
        "# using deepcopy to deep copy\n",
        "list_2 = copy.deepcopy(list_1)\n",
        "\n",
        "# original elements of list\n",
        "print (\"\\n The original elements before deep copying\")\n",
        "for i in range(0,len(list_1)):\n",
        "    print (list_1[i],end=\" \")\n",
        "\n",
        "# adding and element to new list\n",
        "list_2[2][0] = 7\n",
        "\n",
        "# Change is reflected in l2\n",
        "print (\"\\nThe new list of elements after deep copying \")\n",
        "for i in range(0,len( list_2)):\n",
        "    print (list_2[i],end=\" \")\n",
        "\n",
        "# Change is NOT reflected in original list\n",
        "# as it is a deep copy\n",
        "print (\"\\nThe original elements after deep copying\")\n",
        "for i in range(0,len( list_1)):\n",
        "    print (list_1[i],end=\" \")"
      ],
      "metadata": {
        "id": "uLp75fh2J-wA",
        "colab": {
          "base_uri": "https://localhost:8080/"
        },
        "outputId": "be0fcb62-8d4b-4326-f4b7-8f9c75eda616"
      },
      "execution_count": 5,
      "outputs": [
        {
          "output_type": "stream",
          "name": "stdout",
          "text": [
            "\n",
            " The original elements before deep copying\n",
            "1 2 [3, 5] 4 \n",
            "The new list of elements after deep copying \n",
            "1 2 [7, 5] 4 \n",
            "The original elements after deep copying\n",
            "1 2 [3, 5] 4 "
          ]
        }
      ]
    },
    {
      "cell_type": "markdown",
      "source": [
        "Copying a list using deepcopy()"
      ],
      "metadata": {
        "id": "AGr7u0xzkN34"
      }
    },
    {
      "cell_type": "code",
      "source": [
        "import copy\n",
        "\n",
        "old_list = [[1, 1, 1], [2, 2, 2], [3, 3, 3]]\n",
        "new_list = copy.deepcopy(old_list)\n",
        "\n",
        "print(\"Old list:\", old_list)\n",
        "print(\"New list:\", new_list)"
      ],
      "metadata": {
        "colab": {
          "base_uri": "https://localhost:8080/"
        },
        "id": "ay1D1tKPg6ec",
        "outputId": "e46d098a-f2f2-4d14-e73b-f974084a5731"
      },
      "execution_count": 6,
      "outputs": [
        {
          "output_type": "stream",
          "name": "stdout",
          "text": [
            "Old list: [[1, 1, 1], [2, 2, 2], [3, 3, 3]]\n",
            "New list: [[1, 1, 1], [2, 2, 2], [3, 3, 3]]\n"
          ]
        }
      ]
    },
    {
      "cell_type": "code",
      "source": [],
      "metadata": {
        "id": "0zFzu5HUkT-M"
      },
      "execution_count": null,
      "outputs": []
    }
  ]
}