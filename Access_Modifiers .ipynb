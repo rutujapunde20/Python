{
 "cells": [
  {
   "cell_type": "markdown",
   "id": "ff1b541b",
   "metadata": {},
   "source": [
    "#### public Access Modifier\n"
   ]
  },
  {
   "cell_type": "markdown",
   "id": "0116b7a1",
   "metadata": {},
   "source": [
    "By default, all the variables and member functions of a class are public in a python program.\n",
    "\n"
   ]
  },
  {
   "cell_type": "code",
   "execution_count": 1,
   "id": "d344bfa1",
   "metadata": {},
   "outputs": [],
   "source": [
    "# defining a class Employee\n",
    "class Employee:\n",
    "    # constructor\n",
    "    def __init__(self, name, sal):\n",
    "        self.name = name\n",
    "        self.sal = sal"
   ]
  },
  {
   "cell_type": "markdown",
   "id": "dbdfd72d",
   "metadata": {},
   "source": [
    "All the member variables of the class in the above code will be by default public, hence we can access them as follows:\n",
    "\n"
   ]
  },
  {
   "cell_type": "code",
   "execution_count": 2,
   "id": "fa437526",
   "metadata": {},
   "outputs": [
    {
     "name": "stdout",
     "output_type": "stream",
     "text": [
      "999000\n",
      "Ironman\n"
     ]
    }
   ],
   "source": [
    "emp = Employee(\"Ironman\", 999000);\n",
    "print(emp.sal)\n",
    "print(emp.name)"
   ]
  },
  {
   "cell_type": "markdown",
   "id": "5557556f",
   "metadata": {},
   "source": [
    "#### protected Access Modifier\n"
   ]
  },
  {
   "cell_type": "raw",
   "id": "0e8c1f1e",
   "metadata": {},
   "source": [
    "In Python, the protected access modifier is achieved by prefixing an instance variable or method with a single underscore _. This is a convention, not a language-enforced rule, and indicates that the variable or method is intended for internal use within the class and its subclasses."
   ]
  },
  {
   "cell_type": "code",
   "execution_count": 1,
   "id": "8dc03206",
   "metadata": {},
   "outputs": [
    {
     "name": "stdout",
     "output_type": "stream",
     "text": [
      "42\n",
      "This is a protected method.\n"
     ]
    }
   ],
   "source": [
    "class MyClass:\n",
    "    def __init__(self):\n",
    "        self._protected_var = 42\n",
    "#         self._a=42\n",
    "\n",
    "    def _protected_method(self):\n",
    "        print(\"This is a protected method.\")\n",
    "\n",
    "class MySubclass(MyClass):\n",
    "    def __init__(self):\n",
    "        super().__init__()\n",
    "\n",
    "    def call_protected(self):\n",
    "        print(self._protected_var)\n",
    "        self._protected_method()\n",
    "\n",
    "obj = MySubclass()\n",
    "obj.call_protected()  # Output: 42 \\n This is a protected method."
   ]
  },
  {
   "cell_type": "raw",
   "id": "25ba95b9",
   "metadata": {},
   "source": [
    "In this example, MyClass has a protected variable _protected_var and a protected method _protected_method(). These can only be accessed from within the class or its subclasses.\n",
    "\n",
    "MySubclass is a subclass of MyClass, and it can access the protected variable and method using the _ prefix. The call_protected() method of MySubclass is able to call both the protected variable and method.\n"
   ]
  },
  {
   "cell_type": "code",
   "execution_count": 1,
   "id": "072cc544",
   "metadata": {},
   "outputs": [
    {
     "name": "stdout",
     "output_type": "stream",
     "text": [
      "10000\n",
      "Captain\n"
     ]
    }
   ],
   "source": [
    "# defining a class Employee\n",
    "class Employee:\n",
    "    # constructor\n",
    "    def __init__(self, name, sal):\n",
    "        self._name = name  # protected attribute \n",
    "        self._sal = sal    # protected attribute\n",
    "\n",
    "emp = Employee(\"Captain\", 10000)\n",
    "print(emp._sal)\n",
    "print(emp._name)\n"
   ]
  },
  {
   "cell_type": "raw",
   "id": "1647072f",
   "metadata": {},
   "source": [
    "The code is directly accessing the protected attribute _sal from outside the class, which goes against the intended use of protected attributes. The idea behind using protected access modifier is to prevent direct access to these attributes from outside the class and provide controlled access to them through getters and setters or other methods."
   ]
  },
  {
   "cell_type": "raw",
   "id": "3a05262d",
   "metadata": {},
   "source": [
    "A better approach would be to define getter and setter methods for accessing and modifying the protected attributes _name and _sal, respectively. This would ensure that the access to the attributes is controlled and that the attributes are protected from direct access outside the class.\n",
    "\n"
   ]
  },
  {
   "cell_type": "code",
   "execution_count": 5,
   "id": "2df70eac",
   "metadata": {},
   "outputs": [
    {
     "name": "stdout",
     "output_type": "stream",
     "text": [
      "John Doe\n",
      "50000\n",
      "60000\n",
      "6000.0\n"
     ]
    }
   ],
   "source": [
    "class Employee:\n",
    "    # constructor\n",
    "    def __init__(self, name, sal):\n",
    "        self._name = name   # protected attribute \n",
    "        self._sal = sal     # protected attribute\n",
    "\n",
    "    # getter for _name\n",
    "    def get_name(self):\n",
    "        return self._name\n",
    "\n",
    "    # setter for _name\n",
    "    def set_name(self, name):\n",
    "        self._name = name\n",
    "\n",
    "    # getter for _sal\n",
    "    def get_sal(self):\n",
    "        return self._sal\n",
    "\n",
    "    # setter for _sal\n",
    "    def set_sal(self, sal):\n",
    "        self._sal = sal\n",
    "\n",
    "    # protected method\n",
    "    def _calculate_bonus(self):\n",
    "        bonus = self._sal * 0.1\n",
    "        return bonus\n",
    "    \n",
    "    \n",
    "# create an object of Employee class\n",
    "emp = Employee(\"John Doe\", 50000)\n",
    "\n",
    "# call protected variable _name using getter method\n",
    "name = emp.get_name()\n",
    "print(name)  # output: John Doe\n",
    "\n",
    "# call protected variable _sal using getter method\n",
    "sal = emp.get_sal()\n",
    "print(sal)  # output: 50000\n",
    "\n",
    "# call protected variable _sal using setter method\n",
    "emp.set_sal(60000)\n",
    "new_sal = emp.get_sal()\n",
    "print(new_sal)  # output: 60000\n",
    "\n",
    "# call protected method _calculate_bonus\n",
    "bonus = emp._calculate_bonus()\n",
    "print(bonus)  # output: 6000.0\n"
   ]
  },
  {
   "cell_type": "markdown",
   "id": "ae19f785",
   "metadata": {},
   "source": [
    "+++++++"
   ]
  },
  {
   "cell_type": "code",
   "execution_count": 6,
   "id": "db53e4ff",
   "metadata": {},
   "outputs": [],
   "source": [
    "# defining a class Employee\n",
    "class Employee:\n",
    "    # constructor\n",
    "    def __init__(self, name, sal):\n",
    "        self._name = name;   # protected attribute \n",
    "        self._sal = sal;     # protected attribute"
   ]
  },
  {
   "cell_type": "raw",
   "id": "853ffde1",
   "metadata": {},
   "source": [
    "Similarly if there is a child class extending the class Employee then it can also access the protected member variables of the class Employee. Let's have an example:\n",
    "\n"
   ]
  },
  {
   "cell_type": "code",
   "execution_count": 7,
   "id": "4cdaef12",
   "metadata": {},
   "outputs": [],
   "source": [
    "# defining a child class\n",
    "class HR(Employee):\n",
    "    \n",
    "    # member function task\n",
    "    def task(self):\n",
    "        print (\"We manage Employees\")"
   ]
  },
  {
   "cell_type": "code",
   "execution_count": 8,
   "id": "0ce56e97",
   "metadata": {},
   "outputs": [
    {
     "name": "stdout",
     "output_type": "stream",
     "text": [
      "10000\n",
      "We manage Employees\n"
     ]
    }
   ],
   "source": [
    "hrEmp = HR(\"Captain\", 10000)\n",
    "print(hrEmp._sal)\n",
    "\n",
    "hrEmp.task()\n"
   ]
  },
  {
   "cell_type": "markdown",
   "id": "36a282d7",
   "metadata": {},
   "source": [
    "### private Access Modifier\n"
   ]
  },
  {
   "cell_type": "raw",
   "id": "c2f9c8ed",
   "metadata": {},
   "source": [
    "While the addition of prefix __(double underscore) results in a member variable or function becoming private.\n"
   ]
  },
  {
   "cell_type": "code",
   "execution_count": 9,
   "id": "97de9a9f",
   "metadata": {},
   "outputs": [],
   "source": [
    "# defining class Employee\n",
    "class Employee:\n",
    "    def __init__(self, name, sal):\n",
    "        self.__name = name;    # private attribute \n",
    "        self.__sal = sal;      # private attribute"
   ]
  },
  {
   "cell_type": "raw",
   "id": "6f402a5f",
   "metadata": {},
   "source": [
    "If we want to access the private member variable, we will get an error"
   ]
  },
  {
   "cell_type": "code",
   "execution_count": 11,
   "id": "e250ad72",
   "metadata": {},
   "outputs": [
    {
     "ename": "AttributeError",
     "evalue": "'Employee' object has no attribute '__sal'",
     "output_type": "error",
     "traceback": [
      "\u001b[1;31m---------------------------------------------------------------------------\u001b[0m",
      "\u001b[1;31mAttributeError\u001b[0m                            Traceback (most recent call last)",
      "\u001b[1;32m~\\AppData\\Local\\Temp\\ipykernel_6536\\309719678.py\u001b[0m in \u001b[0;36m<module>\u001b[1;34m\u001b[0m\n\u001b[0;32m      1\u001b[0m \u001b[0memp\u001b[0m \u001b[1;33m=\u001b[0m \u001b[0mEmployee\u001b[0m\u001b[1;33m(\u001b[0m\u001b[1;34m\"Bill\"\u001b[0m\u001b[1;33m,\u001b[0m \u001b[1;36m10000\u001b[0m\u001b[1;33m)\u001b[0m\u001b[1;33m\u001b[0m\u001b[1;33m\u001b[0m\u001b[0m\n\u001b[1;32m----> 2\u001b[1;33m \u001b[0mprint\u001b[0m\u001b[1;33m(\u001b[0m\u001b[0memp\u001b[0m\u001b[1;33m.\u001b[0m\u001b[0m__sal\u001b[0m\u001b[1;33m)\u001b[0m\u001b[1;33m\u001b[0m\u001b[1;33m\u001b[0m\u001b[0m\n\u001b[0m",
      "\u001b[1;31mAttributeError\u001b[0m: 'Employee' object has no attribute '__sal'"
     ]
    }
   ],
   "source": [
    "emp = Employee(\"Bill\", 10000)\n",
    "print(emp.__sal)"
   ]
  },
  {
   "cell_type": "raw",
   "id": "a51b2e33",
   "metadata": {},
   "source": [
    "To access private attributes, we need to define getter and setter methods within the class. Here is the corrected code that defines the getter and setter methods for private attributes __name and __sal:\n",
    "\n"
   ]
  },
  {
   "cell_type": "code",
   "execution_count": 12,
   "id": "7ef26c7c",
   "metadata": {},
   "outputs": [
    {
     "name": "stdout",
     "output_type": "stream",
     "text": [
      "10000\n"
     ]
    }
   ],
   "source": [
    "class Employee:\n",
    "    def __init__(self, name, sal):\n",
    "        self.__name = name    # private attribute \n",
    "        self.__sal = sal      # private attribute\n",
    "\n",
    "    # getter for __name\n",
    "    def get_name(self):\n",
    "        return self.__name\n",
    "\n",
    "    # setter for __name\n",
    "    def set_name(self, name):\n",
    "        self.__name = name\n",
    "\n",
    "    # getter for __sal\n",
    "    def get_sal(self):\n",
    "        return self.__sal\n",
    "\n",
    "    # setter for __sal\n",
    "    def set_sal(self, sal):\n",
    "        self.__sal = sal\n",
    "\n",
    "emp = Employee(\"Bill\", 10000)\n",
    "print(emp.get_sal())  # using getter to access private attribute\n"
   ]
  },
  {
   "cell_type": "code",
   "execution_count": 2,
   "id": "c8e78f5c",
   "metadata": {},
   "outputs": [
    {
     "name": "stdout",
     "output_type": "stream",
     "text": [
      "The name of the company is =  Stark Industries\n",
      "Welcome to  Stark Industries\n",
      "Here  Steve  is working on  Mark 4\n",
      "The salary of  Steve  is  9999999\n"
     ]
    }
   ],
   "source": [
    "# define parent class Company\n",
    "class Company:\n",
    "    # constructor\n",
    "    def __init__(self, name, proj):\n",
    "        self.name = name      # name(name of company) is public\n",
    "        self._proj = proj     # proj(current project) is protected\n",
    "    \n",
    "    # public function to show the details\n",
    "    def show(self):\n",
    "        print(\"The name of the company is = \",self.name)\n",
    "\n",
    "# define child class Emp\n",
    "class Emp(Company):\n",
    "    # constructor\n",
    "    def __init__(self, eName, sal, cName, proj):\n",
    "        # calling parent class constructor\n",
    "        Company.__init__(self, cName, proj)\n",
    "        self.name = eName   # public member variable\n",
    "        self.__sal = sal    # private member variable\n",
    "    \n",
    "    # public function to show salary details\n",
    "    def show_sal(self):\n",
    "        print(\"The salary of \",self.name,\" is \",self.__sal)\n",
    "\n",
    "# creating instance of Company class\n",
    "c = Company(\"Stark Industries\", \"Mark 4\")\n",
    "c.show()\n",
    "# creating instance of Employee class\n",
    "e = Emp(\"Steve\", 9999999, c.name, c._proj)\n",
    "\n",
    "print(\"Welcome to \", c.name)\n",
    "print(\"Here \", e.name,\" is working on \",e._proj)\n",
    "\n",
    "# only the instance itself can change the __sal variable\n",
    "# and to show the value we have created a public function show_sal()\n",
    "e.show_sal()"
   ]
  },
  {
   "cell_type": "code",
   "execution_count": null,
   "id": "9c086ba4",
   "metadata": {},
   "outputs": [],
   "source": []
  }
 ],
 "metadata": {
  "kernelspec": {
   "display_name": "Python 3 (ipykernel)",
   "language": "python",
   "name": "python3"
  },
  "language_info": {
   "codemirror_mode": {
    "name": "ipython",
    "version": 3
   },
   "file_extension": ".py",
   "mimetype": "text/x-python",
   "name": "python",
   "nbconvert_exporter": "python",
   "pygments_lexer": "ipython3",
   "version": "3.9.13"
  }
 },
 "nbformat": 4,
 "nbformat_minor": 5
}
