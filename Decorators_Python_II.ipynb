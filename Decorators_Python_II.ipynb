{
 "cells": [
  {
   "cell_type": "code",
   "execution_count": 1,
   "id": "65fa05f9",
   "metadata": {},
   "outputs": [],
   "source": [
    "# Scenario \n",
    "# addition function accepts 2 numbers for addition \n",
    "# We need a function which adds 3 numbers\n",
    "# However, we can't modify the original addition function \n",
    "# make use of decorator function to modify the behaviour of \n",
    "# addition function "
   ]
  },
  {
   "cell_type": "code",
   "execution_count": 3,
   "id": "166fe6a0",
   "metadata": {},
   "outputs": [
    {
     "name": "stdout",
     "output_type": "stream",
     "text": [
      "Enter the first number: 3\n",
      "Enter the second number: 5\n",
      "Enter third number: 4\n",
      "12.0\n"
     ]
    }
   ],
   "source": [
    "# Scenario \n",
    "# addition function accepts 2 numbers for addition \n",
    "# We need a function which adds 3 numbers\n",
    "# However, we can't modify the original addition function \n",
    "# make use of decorator function to modify the behaviour of \n",
    "# addition function \n",
    "def decor(addition): \n",
    "    def inner(): \n",
    "        result=addition()  #Existing functionality \n",
    "        #add new functionality here \n",
    "        num3=float(input(\"Enter third number: \"))\n",
    "        result= result + num3 \n",
    "        return result \n",
    "    return inner \n",
    "# original addition function \n",
    "def addition(): \n",
    "    num1=float(input(\"Enter the first number: \"))\n",
    "    num2=float(input(\"Enter the second number: \"))\n",
    "    result=num1+num2 \n",
    "    return result \n",
    "\n",
    "\n",
    "addition = decor(addition)\n",
    "print(addition())"
   ]
  },
  {
   "cell_type": "code",
   "execution_count": null,
   "id": "eb130703",
   "metadata": {},
   "outputs": [],
   "source": [
    "# Use @ \n",
    "# updated code that uses a decorator to \n",
    "# modify the behavior of the original addition() function \n",
    "# to accept and add three numbers \n",
    "# instead of two\n",
    "\n",
    "def decor(addition): \n",
    "    def inner(): \n",
    "        result = addition()  # Existing functionality \n",
    "        # Add new functionality here \n",
    "        num3 = float(input(\"Enter third number: \"))\n",
    "        result = result + num3 \n",
    "        return result \n",
    "    return inner \n",
    "\n",
    "@decor\n",
    "def addition(): \n",
    "    num1 = float(input(\"Enter the first number: \"))\n",
    "    num2 = float(input(\"Enter the second number: \"))\n",
    "    result = num1 + num2 \n",
    "    return result \n",
    "\n",
    "print(addition())  # Call the decorated addition function\n"
   ]
  },
  {
   "cell_type": "raw",
   "id": "7ff35cb8",
   "metadata": {},
   "source": [
    "The @decor decorator is applied to the addition() function, which means that the addition() function is passed as an argument to the decor() function. The decor() function returns the inner() function, which is now the new implementation of addition().\n",
    "\n",
    "When addition() is called, the decorator modifies the behavior of the function to accept a third number as input and add it to the existing result. The decorator doesn't modify the original addition() function; instead, it modifies the behavior of the function at runtime."
   ]
  },
  {
   "cell_type": "code",
   "execution_count": 1,
   "id": "ef462c8c",
   "metadata": {},
   "outputs": [
    {
     "name": "stdout",
     "output_type": "stream",
     "text": [
      "Enter the first number: 3\n",
      "Enter the second number: 4\n",
      "Enter third number: 6\n",
      "13.0\n"
     ]
    }
   ],
   "source": [
    "def decor(add): \n",
    "    def inner(): \n",
    "        result=add()  #Existing functionality \n",
    "        #add new functionality here \n",
    "        num3=float(input(\"Enter third number: \"))\n",
    "        result= result + num3 \n",
    "        return result \n",
    "    return inner \n",
    "\n",
    "# original addition function \n",
    "def addition(): \n",
    "    num1=float(input(\"Enter the first number: \"))\n",
    "    num2=float(input(\"Enter the second number: \"))\n",
    "    result=num1+num2 \n",
    "    return result \n",
    "\n",
    "\n",
    "x = decor(addition)\n",
    "print(x())"
   ]
  },
  {
   "cell_type": "code",
   "execution_count": 2,
   "id": "9358db85",
   "metadata": {},
   "outputs": [
    {
     "name": "stdout",
     "output_type": "stream",
     "text": [
      "Enter the first number: 4\n",
      "Enter the second number: 5\n",
      "Enter third number: 5\n",
      "14.0\n"
     ]
    }
   ],
   "source": [
    "# Use @ \n",
    "# updated code that uses a decorator to \n",
    "# modify the behavior of the original addition() function \n",
    "# to accept and add three numbers \n",
    "# instead of two\n",
    "\n",
    "def decorator_function(addition): \n",
    "    def inner(): \n",
    "        result = addition()  # Existing functionality \n",
    "        # Add new functionality here \n",
    "        num3 = float(input(\"Enter third number: \"))\n",
    "        result = result + num3 \n",
    "        return result \n",
    "    return inner \n",
    "\n",
    "@decorator_function\n",
    "def addition(): \n",
    "    num1 = float(input(\"Enter the first number: \"))\n",
    "    num2 = float(input(\"Enter the second number: \"))\n",
    "    result = num1 + num2 \n",
    "    return result \n",
    "\n",
    "print(addition())  # Call the decorated addition function\n"
   ]
  },
  {
   "cell_type": "code",
   "execution_count": null,
   "id": "b8ab3a3e",
   "metadata": {},
   "outputs": [],
   "source": []
  }
 ],
 "metadata": {
  "kernelspec": {
   "display_name": "Python 3 (ipykernel)",
   "language": "python",
   "name": "python3"
  },
  "language_info": {
   "codemirror_mode": {
    "name": "ipython",
    "version": 3
   },
   "file_extension": ".py",
   "mimetype": "text/x-python",
   "name": "python",
   "nbconvert_exporter": "python",
   "pygments_lexer": "ipython3",
   "version": "3.9.13"
  }
 },
 "nbformat": 4,
 "nbformat_minor": 5
}
