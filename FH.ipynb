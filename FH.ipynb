{
 "cells": [
  {
   "cell_type": "markdown",
   "metadata": {},
   "source": [
    "File- File contains collection of data and information . Data can be updated and shared through files"
   ]
  },
  {
   "cell_type": "markdown",
   "metadata": {},
   "source": [
    "Type of File-\n",
    "1) Text File - use to store character data\n",
    "2) Binary file - used to store binary data such as images , video files and audio files etc."
   ]
  },
  {
   "cell_type": "code",
   "execution_count": 3,
   "metadata": {},
   "outputs": [
    {
     "name": "stdout",
     "output_type": "stream",
     "text": [
      "International Day for the Preservation of the Ozone Layer is celebrated on September 16 designed by the United Nations General Assembly.\n",
      " This designation had been made on December 19, 2000, in commemoration of the date, in 1987, on which nations signed the Montreal Protocol on Substances that Deplete the Ozone Layer.\n",
      "  Wikipedia\n",
      "\n",
      "\n",
      "\n"
     ]
    }
   ],
   "source": [
    "#Reading a file\n",
    "#relative path\n",
    "\n",
    "import os\n",
    "file =open(\"ozone.txt\",\"r\")\n",
    "print(file.read())  #reads entire file\n",
    "file.close()"
   ]
  },
  {
   "cell_type": "code",
   "execution_count": 1,
   "metadata": {},
   "outputs": [
    {
     "data": {
      "text/plain": [
       "'d:\\\\Workspace\\\\FH'"
      ]
     },
     "execution_count": 1,
     "metadata": {},
     "output_type": "execute_result"
    }
   ],
   "source": [
    "pwd"
   ]
  },
  {
   "cell_type": "code",
   "execution_count": 6,
   "metadata": {},
   "outputs": [
    {
     "name": "stdout",
     "output_type": "stream",
     "text": [
      "d:\\Workspace\\FH\n"
     ]
    }
   ],
   "source": [
    "import os\n",
    "print(os.getcwd())"
   ]
  },
  {
   "cell_type": "code",
   "execution_count": 10,
   "metadata": {},
   "outputs": [
    {
     "name": "stdout",
     "output_type": "stream",
     "text": [
      "Line 1\n",
      "Line 2\n",
      "Line 3\n",
      "Line 4\n"
     ]
    }
   ],
   "source": [
    "import os\n",
    "file =open(\"D:/Workspace/FH/Sample1.txt\",\"r\")\n",
    "print(file.read())  \n",
    "file.close()"
   ]
  },
  {
   "cell_type": "code",
   "execution_count": 11,
   "metadata": {},
   "outputs": [
    {
     "name": "stdout",
     "output_type": "stream",
     "text": [
      "Line 1\n",
      "Line 2\n",
      "Line 3\n",
      "Line 4\n"
     ]
    }
   ],
   "source": [
    "#Absolute path\n",
    "import os\n",
    "file =open(\"D:/Workspace/FH/Sample1.txt\") #Default mode is read\n",
    "print(file.read())  \n",
    "file.close()"
   ]
  },
  {
   "cell_type": "code",
   "execution_count": 1,
   "metadata": {},
   "outputs": [
    {
     "name": "stdout",
     "output_type": "stream",
     "text": [
      "Hello\n"
     ]
    }
   ],
   "source": [
    "import os\n",
    "file =open(\"D:\\Workspace\\Python\\Aug.txt\",\"r\")\n",
    "print(file.read())  #reads entire file\n",
    "file.close()"
   ]
  },
  {
   "cell_type": "code",
   "execution_count": 2,
   "metadata": {},
   "outputs": [
    {
     "name": "stdout",
     "output_type": "stream",
     "text": [
      "Inter\n"
     ]
    }
   ],
   "source": [
    "import os\n",
    "file =open(\"ozone.txt\",\"r\")\n",
    "print(file.read(5))  #reading first 5 characters from file ozone.txt\n",
    "file.close()"
   ]
  },
  {
   "cell_type": "code",
   "execution_count": 3,
   "metadata": {},
   "outputs": [
    {
     "name": "stdout",
     "output_type": "stream",
     "text": [
      "International Day for the Preservation of the Ozone Layer is celebrated on September 16 designed by the United Nations General Assembly.\n",
      "\n"
     ]
    }
   ],
   "source": [
    "import os\n",
    "file =open(\"ozone.txt\",\"r\")\n",
    "print(file.readline())  #reads entire file\n",
    "file.close()"
   ]
  },
  {
   "cell_type": "code",
   "execution_count": 4,
   "metadata": {},
   "outputs": [
    {
     "name": "stdout",
     "output_type": "stream",
     "text": [
      "['International Day for the Preservation of the Ozone Layer is celebrated on September 16 designed by the United Nations General Assembly.\\n', ' This designation had been made on December 19, 2000, in commemoration of the date, in 1987, on which nations signed the Montreal Protocol on Substances that Deplete the Ozone Layer.\\n', '  Wikipedia\\n', '\\n', '\\n']\n"
     ]
    }
   ],
   "source": [
    "import os\n",
    "file =open(\"ozone.txt\",\"r\")\n",
    "print(file.readlines())  #reads entire file\n",
    "file.close()"
   ]
  },
  {
   "cell_type": "code",
   "execution_count": 6,
   "metadata": {},
   "outputs": [],
   "source": [
    "import os\n",
    "file =open(\"Sample1.txt\",\"w\")  #Write mode changes the content of file ...it erased previous data and writeen new data\n",
    "file.write(\"Ozone day\")\n",
    "file.write(\"\\n Done\")  \n",
    "file.close()"
   ]
  },
  {
   "cell_type": "code",
   "execution_count": 11,
   "metadata": {},
   "outputs": [],
   "source": [
    "import os\n",
    "file=open(\"sample3.txt\",\"w\")\n",
    "file.write(\"This is sample file\")\n",
    "file.close()"
   ]
  },
  {
   "cell_type": "code",
   "execution_count": 12,
   "metadata": {},
   "outputs": [],
   "source": [
    "import os\n",
    "file=open(\"sample3.txt\",\"a\")\n",
    "file.write(\"\\n This is appended content\")\n",
    "file.close()"
   ]
  },
  {
   "cell_type": "code",
   "execution_count": 13,
   "metadata": {},
   "outputs": [],
   "source": [
    "import os\n",
    "file=open(\"sample5.txt\",\"x\")\n",
    "file.write(\"\\n This file is created on aug 9\")\n",
    "file.close()"
   ]
  },
  {
   "cell_type": "code",
   "execution_count": 15,
   "metadata": {},
   "outputs": [
    {
     "ename": "FileExistsError",
     "evalue": "[Errno 17] File exists: 'Sample1.txt'",
     "output_type": "error",
     "traceback": [
      "\u001b[1;31m---------------------------------------------------------------------------\u001b[0m",
      "\u001b[1;31mFileExistsError\u001b[0m                           Traceback (most recent call last)",
      "Cell \u001b[1;32mIn[15], line 2\u001b[0m\n\u001b[0;32m      1\u001b[0m \u001b[39mimport\u001b[39;00m \u001b[39mos\u001b[39;00m\n\u001b[1;32m----> 2\u001b[0m file\u001b[39m=\u001b[39m\u001b[39mopen\u001b[39;49m(\u001b[39m\"\u001b[39;49m\u001b[39mSample1.txt\u001b[39;49m\u001b[39m\"\u001b[39;49m,\u001b[39m\"\u001b[39;49m\u001b[39mx\u001b[39;49m\u001b[39m\"\u001b[39;49m)\n\u001b[0;32m      3\u001b[0m file\u001b[39m.\u001b[39mwrite(\u001b[39m\"\u001b[39m\u001b[39m\\n\u001b[39;00m\u001b[39m This file is created on aug 9\u001b[39m\u001b[39m\"\u001b[39m)\n\u001b[0;32m      4\u001b[0m file\u001b[39m.\u001b[39mclose()\n",
      "File \u001b[1;32m~\\AppData\\Roaming\\Python\\Python311\\site-packages\\IPython\\core\\interactiveshell.py:284\u001b[0m, in \u001b[0;36m_modified_open\u001b[1;34m(file, *args, **kwargs)\u001b[0m\n\u001b[0;32m    277\u001b[0m \u001b[39mif\u001b[39;00m file \u001b[39min\u001b[39;00m {\u001b[39m0\u001b[39m, \u001b[39m1\u001b[39m, \u001b[39m2\u001b[39m}:\n\u001b[0;32m    278\u001b[0m     \u001b[39mraise\u001b[39;00m \u001b[39mValueError\u001b[39;00m(\n\u001b[0;32m    279\u001b[0m         \u001b[39mf\u001b[39m\u001b[39m\"\u001b[39m\u001b[39mIPython won\u001b[39m\u001b[39m'\u001b[39m\u001b[39mt let you open fd=\u001b[39m\u001b[39m{\u001b[39;00mfile\u001b[39m}\u001b[39;00m\u001b[39m by default \u001b[39m\u001b[39m\"\u001b[39m\n\u001b[0;32m    280\u001b[0m         \u001b[39m\"\u001b[39m\u001b[39mas it is likely to crash IPython. If you know what you are doing, \u001b[39m\u001b[39m\"\u001b[39m\n\u001b[0;32m    281\u001b[0m         \u001b[39m\"\u001b[39m\u001b[39myou can use builtins\u001b[39m\u001b[39m'\u001b[39m\u001b[39m open.\u001b[39m\u001b[39m\"\u001b[39m\n\u001b[0;32m    282\u001b[0m     )\n\u001b[1;32m--> 284\u001b[0m \u001b[39mreturn\u001b[39;00m io_open(file, \u001b[39m*\u001b[39;49margs, \u001b[39m*\u001b[39;49m\u001b[39m*\u001b[39;49mkwargs)\n",
      "\u001b[1;31mFileExistsError\u001b[0m: [Errno 17] File exists: 'Sample1.txt'"
     ]
    }
   ],
   "source": [
    "import os\n",
    "file=open(\"Sample1.txt\",\"x\")\n",
    "file.write(\"\\n This file is created on aug 9\")\n",
    "file.close()"
   ]
  },
  {
   "cell_type": "code",
   "execution_count": 16,
   "metadata": {},
   "outputs": [],
   "source": [
    "import os\n",
    "if os.path.exists(\"sample4.txt\"):\n",
    "    os.remove(\"sample4.txt\")\n",
    "else:\n",
    "    print(\"No such file\")    "
   ]
  },
  {
   "cell_type": "code",
   "execution_count": 17,
   "metadata": {},
   "outputs": [
    {
     "name": "stdout",
     "output_type": "stream",
     "text": [
      "No such file\n"
     ]
    }
   ],
   "source": [
    "import os\n",
    "if os.path.exists(\"sample4.txt\"):\n",
    "    os.remove(\"sample8.txt\")\n",
    "else:\n",
    "    print(\"No such file\")  "
   ]
  },
  {
   "cell_type": "code",
   "execution_count": 19,
   "metadata": {},
   "outputs": [
    {
     "name": "stdout",
     "output_type": "stream",
     "text": [
      "Li\n",
      "Li\n",
      "Li\n"
     ]
    }
   ],
   "source": [
    "#WAP To read first 2 characters on line no 4 in a file\n",
    "\n",
    "with open('Sample9.txt',\"r\")as file:\n",
    "\n",
    "    #Read the fouth line\n",
    "    for i in range(3):\n",
    "        line=file.readline()\n",
    "\n",
    "        first_2_char=line[:2]\n",
    "        print(first_2_char)\n",
    "\n",
    "        "
   ]
  },
  {
   "cell_type": "code",
   "execution_count": 21,
   "metadata": {},
   "outputs": [
    {
     "name": "stdout",
     "output_type": "stream",
     "text": [
      "Th\n"
     ]
    }
   ],
   "source": [
    "with open('Sample9.txt',\"r\")as file:\n",
    "\n",
    "    #Read the fouth line\n",
    "    for i in range(4):\n",
    "        line=file.readline()\n",
    "\n",
    "    first_2_char=line[:2]\n",
    "    print(first_2_char)"
   ]
  },
  {
   "cell_type": "code",
   "execution_count": 3,
   "metadata": {},
   "outputs": [
    {
     "name": "stdout",
     "output_type": "stream",
     "text": [
      "Mentor\n",
      "\n"
     ]
    }
   ],
   "source": [
    "#Open the file for reading\n",
    "with open(\"Sample9.txt\",\"r\")as file:\n",
    "    line=file.readlines()[2]\n",
    "    print(line)"
   ]
  },
  {
   "cell_type": "code",
   "execution_count": 2,
   "metadata": {},
   "outputs": [
    {
     "name": "stdout",
     "output_type": "stream",
     "text": [
      "Seven\n",
      "\n",
      "Se\n"
     ]
    }
   ],
   "source": [
    "with open(\"Sample9.txt\",\"r\")as file:\n",
    "    line=file.readlines()[1]\n",
    "    print(line)\n",
    "\n",
    "    first_2_chars=line[:2]\n",
    "    print(first_2_chars)"
   ]
  },
  {
   "cell_type": "code",
   "execution_count": null,
   "metadata": {},
   "outputs": [],
   "source": []
  }
 ],
 "metadata": {
  "kernelspec": {
   "display_name": "Python 3",
   "language": "python",
   "name": "python3"
  },
  "language_info": {
   "codemirror_mode": {
    "name": "ipython",
    "version": 3
   },
   "file_extension": ".py",
   "mimetype": "text/x-python",
   "name": "python",
   "nbconvert_exporter": "python",
   "pygments_lexer": "ipython3",
   "version": "3.11.4"
  },
  "orig_nbformat": 4
 },
 "nbformat": 4,
 "nbformat_minor": 2
}
