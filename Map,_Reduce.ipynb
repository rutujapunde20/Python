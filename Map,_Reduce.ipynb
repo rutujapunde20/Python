{
  "nbformat": 4,
  "nbformat_minor": 0,
  "metadata": {
    "colab": {
      "provenance": []
    },
    "kernelspec": {
      "name": "python3",
      "display_name": "Python 3"
    },
    "language_info": {
      "name": "python"
    }
  },
  "cells": [
    {
      "cell_type": "code",
      "execution_count": null,
      "metadata": {
        "id": "Ag9Op0dE-n7h"
      },
      "outputs": [],
      "source": [
        "#map(Name_of_function , Name_of_Sequence)"
      ]
    },
    {
      "cell_type": "code",
      "source": [
        "list3 = [-12, 9, -8, 7, 4, 14, 16, 25]\n",
        "list4=list(map(lambda i:i*i ,list3))\n",
        "list4"
      ],
      "metadata": {
        "colab": {
          "base_uri": "https://localhost:8080/"
        },
        "id": "RUQOTAv8BdvO",
        "outputId": "4010a925-65ae-436f-f245-d9add39dcb86"
      },
      "execution_count": null,
      "outputs": [
        {
          "output_type": "execute_result",
          "data": {
            "text/plain": [
              "[144, 81, 64, 49, 16, 196, 256, 625]"
            ]
          },
          "metadata": {},
          "execution_count": 2
        }
      ]
    },
    {
      "cell_type": "code",
      "source": [
        "for i in list3:\n",
        "  print(i*i)\n"
      ],
      "metadata": {
        "colab": {
          "base_uri": "https://localhost:8080/"
        },
        "id": "aBzyZSv1Bdoo",
        "outputId": "b652c4d1-6a53-4834-9b06-eab3158811bb"
      },
      "execution_count": null,
      "outputs": [
        {
          "output_type": "stream",
          "name": "stdout",
          "text": [
            "144\n",
            "81\n",
            "64\n",
            "49\n",
            "16\n",
            "196\n",
            "256\n",
            "625\n"
          ]
        }
      ]
    },
    {
      "cell_type": "code",
      "source": [
        "list3 = [-12, 9, -8, 7, 4, 14, 16, 25]\n",
        "list4=list(map(lambda i:i*2 ,list3))\n",
        "list4"
      ],
      "metadata": {
        "colab": {
          "base_uri": "https://localhost:8080/"
        },
        "id": "4CpajYzVBdiC",
        "outputId": "8512d1ac-dad5-4e38-da6b-e0554c399051"
      },
      "execution_count": null,
      "outputs": [
        {
          "output_type": "execute_result",
          "data": {
            "text/plain": [
              "[-24, 18, -16, 14, 8, 28, 32, 50]"
            ]
          },
          "metadata": {},
          "execution_count": 5
        }
      ]
    },
    {
      "cell_type": "code",
      "source": [
        "list3 = [-12, 9, -8, 7, 4, 14, 16, 25]\n",
        "list4=list(map(lambda i:i+100 ,list3))\n",
        "list4"
      ],
      "metadata": {
        "colab": {
          "base_uri": "https://localhost:8080/"
        },
        "id": "PeqecLoVCqsU",
        "outputId": "070833e0-bd70-4095-d26d-e221deb2f5c4"
      },
      "execution_count": null,
      "outputs": [
        {
          "output_type": "execute_result",
          "data": {
            "text/plain": [
              "[88, 109, 92, 107, 104, 114, 116, 125]"
            ]
          },
          "metadata": {},
          "execution_count": 6
        }
      ]
    },
    {
      "cell_type": "markdown",
      "source": [
        "#**Reduce**\n",
        "\n",
        "reduce(fun,seq)\n",
        "\n",
        "It is used to apply a particular function passes in its arguments to all of the list elements\n",
        "\n",
        "This function is defined in \"Functools\" module"
      ],
      "metadata": {
        "id": "hNANfZueDHza"
      }
    },
    {
      "cell_type": "code",
      "source": [
        "# python code to demonstrate working of reduce()\n",
        "\n",
        "# importing functools for reduce()\n",
        "import functools as ft\n",
        "\n",
        "# initializing list\n",
        "list_1 = [1,2,3,4,5]\n",
        "\n",
        "# using reduce to compute sum of list\n",
        "print(\"The sum of the list elements is: \", end=\"\")\n",
        "\n",
        "\n",
        "print(ft.reduce(lambda x, y: x+y, list_1))"
      ],
      "metadata": {
        "colab": {
          "base_uri": "https://localhost:8080/"
        },
        "id": "9chB6WMRoUKi",
        "outputId": "3b4cd71c-dec9-46d4-cdbf-c4417f60e8f9"
      },
      "execution_count": 1,
      "outputs": [
        {
          "output_type": "stream",
          "name": "stdout",
          "text": [
            "The sum of the list elements is: 15\n"
          ]
        }
      ]
    },
    {
      "cell_type": "code",
      "source": [
        "import functools as ft\n",
        "list_1 = [1,2,3,4,5]\n",
        "\n",
        "addition =ft.reduce (lambda x,y:x+y , list_1)\n",
        "print(addition)"
      ],
      "metadata": {
        "colab": {
          "base_uri": "https://localhost:8080/"
        },
        "id": "EjTOn0d8CwFL",
        "outputId": "df2939ca-3c63-4280-f81b-41641766d197"
      },
      "execution_count": null,
      "outputs": [
        {
          "output_type": "stream",
          "name": "stdout",
          "text": [
            "15\n"
          ]
        }
      ]
    },
    {
      "cell_type": "code",
      "source": [
        "# Example 1: Find the product of the list elements using reduce()\n",
        "\n",
        "from functools import reduce\n",
        "num1=[1,2,3,4,5]\n",
        "num2=reduce(lambda x,y:x*y,num1)\n",
        "print (num2)#Output:120"
      ],
      "metadata": {
        "colab": {
          "base_uri": "https://localhost:8080/"
        },
        "id": "9FCOrjLZDnUK",
        "outputId": "f2ae10e3-631d-41c2-ba93-9db1c9ac7489"
      },
      "execution_count": null,
      "outputs": [
        {
          "output_type": "stream",
          "name": "stdout",
          "text": [
            "120\n"
          ]
        }
      ]
    },
    {
      "cell_type": "code",
      "source": [
        "## Example 2:Find the largest number in the iterable using reduce()\n",
        "\n",
        "from functools import reduce\n",
        "num1=[12,15,30,4,5]\n",
        "\n",
        "num2=reduce(lambda x,y:x if x>y else y,num1)\n",
        "print (num2)\n"
      ],
      "metadata": {
        "colab": {
          "base_uri": "https://localhost:8080/"
        },
        "id": "_8lj40EPFx6M",
        "outputId": "701b73e7-8b17-4e7b-9435-99afb827d162"
      },
      "execution_count": null,
      "outputs": [
        {
          "output_type": "stream",
          "name": "stdout",
          "text": [
            "30\n"
          ]
        }
      ]
    },
    {
      "cell_type": "code",
      "source": [
        "# python code to demonstrate working of reduce()\n",
        "\n",
        "# importing functools for reduce()\n",
        "import functools as ft\n",
        "\n",
        "# initializing list\n",
        "list_1 = [1,2,3,4,5]\n",
        "\n",
        "# using reduce to compute sum of list\n",
        "print(\"The sum of the list elements is: \", end=\"\")\n",
        "\n",
        "\n",
        "print(ft.reduce(lambda x, y: x+y, list_1))"
      ],
      "metadata": {
        "colab": {
          "base_uri": "https://localhost:8080/"
        },
        "id": "4XSRQi8AqkvE",
        "outputId": "3eda3556-c803-4a10-9a85-dc7560ea49ae"
      },
      "execution_count": 2,
      "outputs": [
        {
          "output_type": "stream",
          "name": "stdout",
          "text": [
            "The sum of the list elements is: 15\n"
          ]
        }
      ]
    },
    {
      "cell_type": "code",
      "source": [
        "# Example 3:Using User-defined function in reduce()\n",
        "\n",
        "from functools import reduce\n",
        "def sum1(x,y):\n",
        "    return x+y\n",
        "num1=[15,12,30,4,5]\n",
        "num2=reduce(sum1,num1)\n",
        "print (num2)#Output:66"
      ],
      "metadata": {
        "colab": {
          "base_uri": "https://localhost:8080/"
        },
        "id": "IvxdSlmhqsiw",
        "outputId": "fa3b4a0b-e801-4a03-e654-b810e2c9b82e"
      },
      "execution_count": 3,
      "outputs": [
        {
          "output_type": "stream",
          "name": "stdout",
          "text": [
            "66\n"
          ]
        }
      ]
    },
    {
      "cell_type": "code",
      "source": [
        "# Example 4: Initializer is mentioned.\n",
        "\n",
        "# If the optional initializer is present, it is placed before the items of the iterable in the calculation.\n",
        "from functools import reduce\n",
        "\n",
        "def sum1(x,y):\n",
        "   return x+y\n",
        "\n",
        "num1=[1,2,3,4,5]\n",
        "\n",
        "# num1=[10, 1,2,3,4,5]\n",
        "num2=reduce(sum1,num1,10) #10 is initializer\n",
        "print (num2)#Output:25"
      ],
      "metadata": {
        "colab": {
          "base_uri": "https://localhost:8080/"
        },
        "id": "lEbkONKIImyF",
        "outputId": "c27d83e8-4169-4d91-b541-b82e698ae16e"
      },
      "execution_count": null,
      "outputs": [
        {
          "output_type": "stream",
          "name": "stdout",
          "text": [
            "25\n"
          ]
        }
      ]
    },
    {
      "cell_type": "code",
      "source": [
        "# Example 5:Iterable contains only one item, reduce() will return that item.\n",
        "\n",
        "from functools import reduce\n",
        "def sum1(x,y):\n",
        "    return x+y\n",
        "num1=[5]\n",
        "num2=reduce(sum1,num1)\n",
        "print (num2)#Output:5"
      ],
      "metadata": {
        "colab": {
          "base_uri": "https://localhost:8080/"
        },
        "id": "A7t-Gd6lrG9T",
        "outputId": "b2443710-0a89-49eb-e80c-4ddf98313a25"
      },
      "execution_count": 4,
      "outputs": [
        {
          "output_type": "stream",
          "name": "stdout",
          "text": [
            "5\n"
          ]
        }
      ]
    },
    {
      "cell_type": "code",
      "source": [
        "# Example 6: If iterable is empty and the initializer is given,\n",
        "# reduce() will return the initializer.\n",
        "\n",
        "from functools import reduce\n",
        "def sum1(x,y):\n",
        "    return x+y\n",
        "num1=[]\n",
        "num2=reduce(sum1,num1,10)\n",
        "print (num2)#Output:10"
      ],
      "metadata": {
        "colab": {
          "base_uri": "https://localhost:8080/"
        },
        "id": "GYGmKGPOrObO",
        "outputId": "4ba9b622-2ad0-46b4-d710-a9c13b995d13"
      },
      "execution_count": 5,
      "outputs": [
        {
          "output_type": "stream",
          "name": "stdout",
          "text": [
            "10\n"
          ]
        }
      ]
    },
    {
      "cell_type": "code",
      "source": [
        "\n",
        "from functools import reduce\n",
        "\n",
        "def sum1(x,y):\n",
        "   return x+y\n",
        "\n",
        "num1=[5]\n",
        "\n",
        "\n",
        "num2=reduce(sum1,num1)\n",
        "print (num2)"
      ],
      "metadata": {
        "colab": {
          "base_uri": "https://localhost:8080/"
        },
        "id": "3S9FE-_dI06j",
        "outputId": "afd34eae-54fe-4834-ca8f-7e640289aa30"
      },
      "execution_count": null,
      "outputs": [
        {
          "output_type": "stream",
          "name": "stdout",
          "text": [
            "5\n"
          ]
        }
      ]
    },
    {
      "cell_type": "code",
      "source": [
        "#reduce() : returns a single value of the operation\n",
        "\n",
        "# reduce(name_of_function , name_of_sequence)\n",
        "# WAP using reduce() which returns sum of all elements\n",
        "\n",
        "import functools as ft\n",
        "\n",
        "list1 = [1,2,3]\n",
        "\n",
        "a1 = ft.reduce(lambda i,total = 0 : total + i , list1)\n",
        "print(a1)"
      ],
      "metadata": {
        "colab": {
          "base_uri": "https://localhost:8080/"
        },
        "id": "A_QSS7MQJmAd",
        "outputId": "70d68be3-8905-4cd5-e985-b860aba69957"
      },
      "execution_count": null,
      "outputs": [
        {
          "output_type": "stream",
          "name": "stdout",
          "text": [
            "6\n"
          ]
        }
      ]
    },
    {
      "cell_type": "code",
      "source": [],
      "metadata": {
        "id": "6E2UAVKNJ1ZM"
      },
      "execution_count": null,
      "outputs": []
    }
  ]
}