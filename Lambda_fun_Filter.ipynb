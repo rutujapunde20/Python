{
  "nbformat": 4,
  "nbformat_minor": 0,
  "metadata": {
    "colab": {
      "provenance": []
    },
    "kernelspec": {
      "name": "python3",
      "display_name": "Python 3"
    },
    "language_info": {
      "name": "python"
    }
  },
  "cells": [
    {
      "cell_type": "code",
      "execution_count": null,
      "metadata": {
        "id": "ZKkPAQQI2TRJ"
      },
      "outputs": [],
      "source": [
        "add=lambda a,b : a+b\n"
      ]
    },
    {
      "cell_type": "code",
      "source": [
        "n1=int(input(\"Enter n1\"))\n",
        "n2=int(input(\"Enter n2\"))"
      ],
      "metadata": {
        "colab": {
          "base_uri": "https://localhost:8080/"
        },
        "id": "zhCwmDME6mkU",
        "outputId": "b5eb6e46-c893-4c9c-819a-f56148218e95"
      },
      "execution_count": null,
      "outputs": [
        {
          "name": "stdout",
          "output_type": "stream",
          "text": [
            "Enter n15\n",
            "Enter n26\n"
          ]
        }
      ]
    },
    {
      "cell_type": "code",
      "source": [
        "add(n1,n2)"
      ],
      "metadata": {
        "colab": {
          "base_uri": "https://localhost:8080/"
        },
        "id": "bGXXaTmV6w9t",
        "outputId": "9f6c7cc5-e073-4a5d-9799-6dfb80b638f9"
      },
      "execution_count": null,
      "outputs": [
        {
          "output_type": "execute_result",
          "data": {
            "text/plain": [
              "11"
            ]
          },
          "metadata": {},
          "execution_count": 12
        }
      ]
    },
    {
      "cell_type": "code",
      "source": [
        "type(add)"
      ],
      "metadata": {
        "colab": {
          "base_uri": "https://localhost:8080/"
        },
        "id": "opiSZgJ94575",
        "outputId": "ee0391c0-62ce-45fe-ee9c-51cd8ebe9a80"
      },
      "execution_count": null,
      "outputs": [
        {
          "output_type": "execute_result",
          "data": {
            "text/plain": [
              "function"
            ]
          },
          "metadata": {},
          "execution_count": 2
        }
      ]
    },
    {
      "cell_type": "code",
      "source": [
        "print(add(3,4))"
      ],
      "metadata": {
        "colab": {
          "base_uri": "https://localhost:8080/"
        },
        "id": "RkFGD2KF49CW",
        "outputId": "4846f959-f2ae-4caf-9465-566ed9baaeb2"
      },
      "execution_count": null,
      "outputs": [
        {
          "output_type": "stream",
          "name": "stdout",
          "text": [
            "7\n"
          ]
        }
      ]
    },
    {
      "cell_type": "code",
      "source": [
        "print(add(5,9))"
      ],
      "metadata": {
        "colab": {
          "base_uri": "https://localhost:8080/"
        },
        "id": "6fnOAooD5FSc",
        "outputId": "235bde34-a581-4b49-8be2-b45e11ec216c"
      },
      "execution_count": null,
      "outputs": [
        {
          "output_type": "stream",
          "name": "stdout",
          "text": [
            "14\n"
          ]
        }
      ]
    },
    {
      "cell_type": "code",
      "source": [
        "result=add(9,56)\n",
        "print(result)"
      ],
      "metadata": {
        "colab": {
          "base_uri": "https://localhost:8080/"
        },
        "id": "ORNwuZa65Rrs",
        "outputId": "02991600-55e4-4eb5-939d-cf847dcfd06f"
      },
      "execution_count": null,
      "outputs": [
        {
          "output_type": "stream",
          "name": "stdout",
          "text": [
            "65\n"
          ]
        }
      ]
    },
    {
      "cell_type": "code",
      "source": [
        "square=lambda x:x**2\n",
        "square(4)"
      ],
      "metadata": {
        "colab": {
          "base_uri": "https://localhost:8080/"
        },
        "id": "5pqsuniq5wGZ",
        "outputId": "ac32d222-7dd7-4465-aa6f-7b45d753d74c"
      },
      "execution_count": null,
      "outputs": [
        {
          "output_type": "execute_result",
          "data": {
            "text/plain": [
              "16"
            ]
          },
          "metadata": {},
          "execution_count": 8
        }
      ]
    },
    {
      "cell_type": "code",
      "source": [
        "num=int(input(\"Enter a num\"))"
      ],
      "metadata": {
        "colab": {
          "base_uri": "https://localhost:8080/"
        },
        "id": "Pb27ljh1585_",
        "outputId": "7c4ee74a-60a1-43a1-9eb2-99309ba4018f"
      },
      "execution_count": null,
      "outputs": [
        {
          "name": "stdout",
          "output_type": "stream",
          "text": [
            "Enter a num4\n"
          ]
        }
      ]
    },
    {
      "cell_type": "code",
      "source": [
        "square(num)"
      ],
      "metadata": {
        "colab": {
          "base_uri": "https://localhost:8080/"
        },
        "id": "4AvuW95e6N1U",
        "outputId": "b4ca5e16-bd26-4d85-af2d-16f42fbb41f7"
      },
      "execution_count": null,
      "outputs": [
        {
          "output_type": "execute_result",
          "data": {
            "text/plain": [
              "16"
            ]
          },
          "metadata": {},
          "execution_count": 10
        }
      ]
    },
    {
      "cell_type": "code",
      "source": [
        "max_num= lambda a,b : a if a>b else b\n",
        "Maximum_number= max_num(5,8)\n",
        "print(Maximum_number)"
      ],
      "metadata": {
        "colab": {
          "base_uri": "https://localhost:8080/"
        },
        "id": "3ff4DHyb6VRv",
        "outputId": "d1d2816c-2085-4a30-8ddf-4b775e43234a"
      },
      "execution_count": null,
      "outputs": [
        {
          "output_type": "stream",
          "name": "stdout",
          "text": [
            "8\n"
          ]
        }
      ]
    },
    {
      "cell_type": "code",
      "source": [
        "#Sets ,tuples , dictionaries , List all are iterable"
      ],
      "metadata": {
        "id": "q_nXB3NW7BJy"
      },
      "execution_count": null,
      "outputs": []
    },
    {
      "cell_type": "markdown",
      "source": [
        "**Filter Function** - Python's filter() is a built-in function that allows you to process an iterable and extract those items that satisfy a given condition.\n"
      ],
      "metadata": {
        "id": "Jzhh7JAR9gjJ"
      }
    },
    {
      "cell_type": "code",
      "source": [
        "a = [12, 23, 32,21,54,56,76,78,89,80,43,57,75,35,53]\n",
        "\n"
      ],
      "metadata": {
        "id": "fwQco_bS7Ars"
      },
      "execution_count": null,
      "outputs": []
    },
    {
      "cell_type": "code",
      "source": [
        "def even(x):\n",
        "  if x%2==0:\n",
        "    return x"
      ],
      "metadata": {
        "id": "KKa-ecghBJiT"
      },
      "execution_count": null,
      "outputs": []
    },
    {
      "cell_type": "code",
      "source": [
        "b=tuple(filter(even,a))"
      ],
      "metadata": {
        "id": "Kcj19XVvBP7w"
      },
      "execution_count": null,
      "outputs": []
    },
    {
      "cell_type": "code",
      "source": [
        "b"
      ],
      "metadata": {
        "colab": {
          "base_uri": "https://localhost:8080/"
        },
        "id": "CN8Ne0ZjBhQZ",
        "outputId": "a080bc30-0e29-441d-e045-6a29cbde124a"
      },
      "execution_count": null,
      "outputs": [
        {
          "output_type": "execute_result",
          "data": {
            "text/plain": [
              "(12, 32, 54, 56, 76, 78, 80)"
            ]
          },
          "metadata": {},
          "execution_count": 18
        }
      ]
    },
    {
      "cell_type": "code",
      "source": [
        "c=list(filter(even,a))"
      ],
      "metadata": {
        "id": "-Vpsf3DfBiii"
      },
      "execution_count": null,
      "outputs": []
    },
    {
      "cell_type": "code",
      "source": [
        "print(c)"
      ],
      "metadata": {
        "colab": {
          "base_uri": "https://localhost:8080/"
        },
        "id": "tCMxH1-0Bsd-",
        "outputId": "286eb0be-4b27-4a20-e8d1-f0110aed0c15"
      },
      "execution_count": null,
      "outputs": [
        {
          "output_type": "stream",
          "name": "stdout",
          "text": [
            "[12, 32, 54, 56, 76, 78, 80]\n"
          ]
        }
      ]
    },
    {
      "cell_type": "code",
      "source": [
        "d=set(filter(even,a))"
      ],
      "metadata": {
        "id": "WpYWczMyBuWi"
      },
      "execution_count": null,
      "outputs": []
    },
    {
      "cell_type": "code",
      "source": [
        "print(d)"
      ],
      "metadata": {
        "colab": {
          "base_uri": "https://localhost:8080/"
        },
        "id": "_-iPOwSCB98C",
        "outputId": "ff51c5e4-1bf5-4874-ab7a-6fd569657f39"
      },
      "execution_count": null,
      "outputs": [
        {
          "output_type": "stream",
          "name": "stdout",
          "text": [
            "{32, 12, 76, 78, 80, 54, 56}\n"
          ]
        }
      ]
    },
    {
      "cell_type": "code",
      "source": [
        "# filter() : using lambda function\n",
        "a = [12, 23, 32,21,54,56,76,78,89,80,43,57,75,35,53]\n",
        "\n",
        "b = list(filter(lambda x : x % 2 ==0 , a))\n",
        "b"
      ],
      "metadata": {
        "colab": {
          "base_uri": "https://localhost:8080/"
        },
        "id": "udduQpkuCAAW",
        "outputId": "5a73d84b-206b-4ef4-c5fd-c1825b646daf"
      },
      "execution_count": null,
      "outputs": [
        {
          "output_type": "execute_result",
          "data": {
            "text/plain": [
              "[12, 32, 54, 56, 76, 78, 80]"
            ]
          },
          "metadata": {},
          "execution_count": 24
        }
      ]
    },
    {
      "cell_type": "code",
      "source": [
        "#filter using lambda function but without typecasting\n",
        "\n",
        "a = [12, 23, 32,21,54,56,76,78,89,80,43,57,75,35,53]\n",
        "\n",
        "b = filter(lambda x : x % 2 ==0 , a)\n",
        "\n",
        "\n",
        "for something in b:\n",
        "  print(something)\n"
      ],
      "metadata": {
        "colab": {
          "base_uri": "https://localhost:8080/"
        },
        "id": "6WupYlyRC7h-",
        "outputId": "b9e02695-6a47-4ea8-f081-9f232b6ecf40"
      },
      "execution_count": null,
      "outputs": [
        {
          "output_type": "stream",
          "name": "stdout",
          "text": [
            "12\n",
            "32\n",
            "54\n",
            "56\n",
            "76\n",
            "78\n",
            "80\n"
          ]
        }
      ]
    },
    {
      "cell_type": "code",
      "source": [
        "#WAPT create list with items according to their types\n",
        "\n",
        "list1 = [12,23.34,-21,-45, -78.90, True, False, \"abc\", 34.56, \"xyz\"]"
      ],
      "metadata": {
        "id": "G31-fHw_Dd7M"
      },
      "execution_count": null,
      "outputs": []
    },
    {
      "cell_type": "code",
      "source": [
        "list1_int=list(filter(lambda i: type(i)==int ,list1))\n",
        "\n",
        "list1_int"
      ],
      "metadata": {
        "colab": {
          "base_uri": "https://localhost:8080/"
        },
        "id": "T1GOs-H0_jJ7",
        "outputId": "0ec9bbc1-0d5e-48f4-9d12-751ae3602b6e"
      },
      "execution_count": null,
      "outputs": [
        {
          "output_type": "execute_result",
          "data": {
            "text/plain": [
              "[12, -21, -45]"
            ]
          },
          "metadata": {},
          "execution_count": 6
        }
      ]
    },
    {
      "cell_type": "code",
      "source": [
        "#Same program by using loops\n",
        "\n",
        "for i in list1:\n",
        "  if type(i)==int:\n",
        "    print(i)"
      ],
      "metadata": {
        "colab": {
          "base_uri": "https://localhost:8080/"
        },
        "id": "tbkkw7pX_5Dy",
        "outputId": "c4b630b4-6179-4bd5-cba8-589e5786c673"
      },
      "execution_count": null,
      "outputs": [
        {
          "output_type": "stream",
          "name": "stdout",
          "text": [
            "12\n",
            "-21\n",
            "-45\n"
          ]
        }
      ]
    },
    {
      "cell_type": "code",
      "source": [
        "list1_float=list(filter(lambda i: type(i)==float ,list1))\n",
        "\n",
        "list1_float"
      ],
      "metadata": {
        "colab": {
          "base_uri": "https://localhost:8080/"
        },
        "id": "suAYzLseAAEi",
        "outputId": "037e35e9-e0bb-4b6d-c233-94d671af373d"
      },
      "execution_count": null,
      "outputs": [
        {
          "output_type": "execute_result",
          "data": {
            "text/plain": [
              "[23.34, -78.9, 34.56]"
            ]
          },
          "metadata": {},
          "execution_count": 9
        }
      ]
    },
    {
      "cell_type": "code",
      "source": [],
      "metadata": {
        "id": "dalVkqQFAyko"
      },
      "execution_count": null,
      "outputs": []
    }
  ]
}