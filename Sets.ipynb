{
  "nbformat": 4,
  "nbformat_minor": 0,
  "metadata": {
    "colab": {
      "provenance": []
    },
    "kernelspec": {
      "name": "python3",
      "display_name": "Python 3"
    },
    "language_info": {
      "name": "python"
    }
  },
  "cells": [
    {
      "cell_type": "markdown",
      "source": [
        "Sets are immutable...You cant change value"
      ],
      "metadata": {
        "id": "3WeHxqBgaD8t"
      }
    },
    {
      "cell_type": "code",
      "source": [
        "# create a set of integer type\n",
        "student_id = {112, 114, 116, 118, 115}\n",
        "print('Student ID:', student_id)\n",
        "\n",
        "# create a set of string type\n",
        "vowel_letters = {'a', 'e', 'i', 'o', 'u'}\n",
        "print('Vowel Letters:', vowel_letters)\n",
        "\n",
        "# create a set of mixed data types\n",
        "mixed_set = {'Hello', 101, -2, 'Bye'}\n",
        "print('Set of mixed data types:', mixed_set)\n",
        "# The elements in a set can be objects of different types"
      ],
      "metadata": {
        "colab": {
          "base_uri": "https://localhost:8080/"
        },
        "id": "gK93sQSX9xhe",
        "outputId": "8feb8ae2-2e58-4707-9ac5-d0aa944f464c"
      },
      "execution_count": null,
      "outputs": [
        {
          "output_type": "stream",
          "name": "stdout",
          "text": [
            "Student ID: {112, 114, 115, 116, 118}\n",
            "Vowel Letters: {'o', 'e', 'u', 'a', 'i'}\n",
            "Set of mixed data types: {'Hello', 101, 'Bye', -2}\n"
          ]
        }
      ]
    },
    {
      "cell_type": "markdown",
      "source": [
        "###Creating an empty set"
      ],
      "metadata": {
        "id": "6hyIlD5n-Az5"
      }
    },
    {
      "cell_type": "code",
      "source": [
        "# create an empty set\n",
        "empty_set = set()\n",
        "\n",
        "\n",
        "# create an empty dictionary\n",
        "empty_dictionary = { }\n",
        "\n",
        "# check data type of empty_set\n",
        "print('Data type of empty_set:', type(empty_set))\n",
        "\n",
        "# check data type of dictionary_set\n",
        "print('Data type of empty_dictionary', type(empty_dictionary))"
      ],
      "metadata": {
        "colab": {
          "base_uri": "https://localhost:8080/"
        },
        "id": "p508NMO9-Emg",
        "outputId": "0c3ca893-bc5b-49de-978e-77cc5665d640"
      },
      "execution_count": null,
      "outputs": [
        {
          "output_type": "stream",
          "name": "stdout",
          "text": [
            "Data type of empty_set: <class 'set'>\n",
            "Data type of empty_dictionary <class 'dict'>\n"
          ]
        }
      ]
    },
    {
      "cell_type": "code",
      "source": [
        "numbers = {2, 4, 6, 6, 2, 8}\n",
        "print(numbers)"
      ],
      "metadata": {
        "colab": {
          "base_uri": "https://localhost:8080/"
        },
        "id": "UKrLZdTx-Y00",
        "outputId": "92088fea-7b0f-4e9a-f6fb-a5c094f7c909"
      },
      "execution_count": null,
      "outputs": [
        {
          "output_type": "stream",
          "name": "stdout",
          "text": [
            "{8, 2, 4, 6}\n"
          ]
        }
      ]
    },
    {
      "cell_type": "markdown",
      "source": [
        "###Accesing Element in set using loop and operator"
      ],
      "metadata": {
        "id": "GvgGkCAM-f9F"
      }
    },
    {
      "cell_type": "code",
      "source": [
        "set_1 = {4, 6, 12, 11, 3, 5}\n",
        "\n",
        "#Access element using for loop\n",
        "print(\"\\nReading elements of the set: \")\n",
        "\n",
        "for i in set_1:\n",
        "      print(i)"
      ],
      "metadata": {
        "colab": {
          "base_uri": "https://localhost:8080/"
        },
        "id": "AOe3Hr8laKN3",
        "outputId": "9ab532f8-61e0-4a5f-b7b7-6ecefd57914b"
      },
      "execution_count": null,
      "outputs": [
        {
          "output_type": "stream",
          "name": "stdout",
          "text": [
            "\n",
            "Reading elements of the set: \n",
            "3\n",
            "4\n",
            "5\n",
            "6\n",
            "11\n",
            "12\n"
          ]
        }
      ]
    },
    {
      "cell_type": "code",
      "source": [
        "#input set\n",
        "set1 = {1, 2, 3, 4, 5}\n",
        "\n",
        "x = next(iter(set1))\n",
        "#prints first item\n",
        "print(x)\n"
      ],
      "metadata": {
        "colab": {
          "base_uri": "https://localhost:8080/"
        },
        "id": "q0nnBvpkFqHU",
        "outputId": "c43db760-8925-441f-e157-c6c935cd5538"
      },
      "execution_count": null,
      "outputs": [
        {
          "output_type": "stream",
          "name": "stdout",
          "text": [
            "1\n"
          ]
        }
      ]
    },
    {
      "cell_type": "markdown",
      "source": [
        "##Checking the availability of element in the set using operator"
      ],
      "metadata": {
        "id": "5waAs-jAbXkO"
      }
    },
    {
      "cell_type": "code",
      "source": [
        "#input set\n",
        "set1 = {\"apple\", \"mango\", \"cherry\", \"pear\", \"guava\"}\n",
        "\n",
        "#check for an element\n",
        "print(\"apple\" in set1)\n",
        "print(\"watermelon\" in set1)\n",
        "print(\"apple\" not in set1)\n"
      ],
      "metadata": {
        "colab": {
          "base_uri": "https://localhost:8080/"
        },
        "id": "x_GU3a9yageM",
        "outputId": "eabc1acf-df80-48f0-edf6-7b68f7032ff4"
      },
      "execution_count": null,
      "outputs": [
        {
          "output_type": "stream",
          "name": "stdout",
          "text": [
            "True\n",
            "False\n",
            "False\n"
          ]
        }
      ]
    },
    {
      "cell_type": "code",
      "source": [
        "numbers={11,22,33,44}"
      ],
      "metadata": {
        "id": "1XpSn4wDbSZY"
      },
      "execution_count": null,
      "outputs": []
    },
    {
      "cell_type": "code",
      "source": [
        "numbers.add(32)"
      ],
      "metadata": {
        "id": "XrGp0oXKbxPU"
      },
      "execution_count": null,
      "outputs": []
    },
    {
      "cell_type": "code",
      "source": [
        "numbers\n"
      ],
      "metadata": {
        "colab": {
          "base_uri": "https://localhost:8080/"
        },
        "id": "jm6F3CSwb8RY",
        "outputId": "751214b3-cb49-46f8-e2ea-800531470b97"
      },
      "execution_count": null,
      "outputs": [
        {
          "output_type": "execute_result",
          "data": {
            "text/plain": [
              "{11, 22, 32, 33, 44}"
            ]
          },
          "metadata": {},
          "execution_count": 5
        }
      ]
    },
    {
      "cell_type": "markdown",
      "source": [
        "#Union"
      ],
      "metadata": {
        "id": "KsomWF9Bgz63"
      }
    },
    {
      "cell_type": "markdown",
      "source": [
        "*The union of two sets A and B include all the elements of set A and B.*\n"
      ],
      "metadata": {
        "id": "ToX_fwzUg_gy"
      }
    },
    {
      "cell_type": "code",
      "source": [
        "# first set\n",
        "A = {1, 3, 5}\n",
        "\n",
        "# second set\n",
        "B = {0, 2, 4, 3}\n",
        "\n",
        "# perform union operation using |\n",
        "print('Union using |:', A | B)\n",
        "# OR\n",
        "\n",
        "# perform union operation using union()\n",
        "print('Union using union():', A.union(B))\n",
        "C=A.union(B)\n",
        "print(\"Union is\", C)\n"
      ],
      "metadata": {
        "colab": {
          "base_uri": "https://localhost:8080/"
        },
        "id": "lTw-T99wg3ik",
        "outputId": "b7826572-e8c1-4df0-b814-1773d731c1a7"
      },
      "execution_count": 1,
      "outputs": [
        {
          "output_type": "stream",
          "name": "stdout",
          "text": [
            "Union using |: {0, 1, 2, 3, 4, 5}\n",
            "Union using union(): {0, 1, 2, 3, 4, 5}\n",
            "Union is {0, 1, 2, 3, 4, 5}\n"
          ]
        }
      ]
    },
    {
      "cell_type": "markdown",
      "source": [
        "#Intersection"
      ],
      "metadata": {
        "id": "vviofQYbgnRV"
      }
    },
    {
      "cell_type": "code",
      "source": [
        "A = {1, 3, 5}\n",
        "\n",
        "# second set\n",
        "B = {6,7,8}\n",
        "\n",
        "c=A&B\n",
        "print(type(c))\n",
        "# perform intersection operation using &\n",
        "print('Intersection using &:', A & B)\n",
        "\n",
        "# perform intersection operation using intersection()\n",
        "print('Intersection using intersection():', A.intersection(B))"
      ],
      "metadata": {
        "colab": {
          "base_uri": "https://localhost:8080/"
        },
        "id": "slHxbgAbdiJS",
        "outputId": "0f961283-c251-4c29-afa6-f55b846ec87b"
      },
      "execution_count": null,
      "outputs": [
        {
          "output_type": "stream",
          "name": "stdout",
          "text": [
            "<class 'set'>\n",
            "Intersection using &: set()\n",
            "Intersection using intersection(): set()\n"
          ]
        }
      ]
    },
    {
      "cell_type": "code",
      "source": [
        "A = {1, 3, 5,8}\n",
        "\n",
        "# second set\n",
        "B = {6,7,8}\n",
        "\n",
        "c=A&B\n",
        "print(type(c))\n",
        "# perform intersection operation using &\n",
        "print('Intersection using &:', A & B)\n",
        "\n",
        "# perform intersection operation using intersection()\n",
        "print('Intersection using intersection():', A.intersection(B))"
      ],
      "metadata": {
        "colab": {
          "base_uri": "https://localhost:8080/"
        },
        "id": "fPJrjR0-fqkp",
        "outputId": "c2c9b514-58a9-4428-abbb-d2cec22b965e"
      },
      "execution_count": null,
      "outputs": [
        {
          "output_type": "stream",
          "name": "stdout",
          "text": [
            "<class 'set'>\n",
            "Intersection using &: {8}\n",
            "Intersection using intersection(): {8}\n"
          ]
        }
      ]
    },
    {
      "cell_type": "markdown",
      "source": [
        "##Difference between Two sets"
      ],
      "metadata": {
        "id": "jpK93-KzhLcw"
      }
    },
    {
      "cell_type": "code",
      "source": [
        "# first set\n",
        "A = {2, 3, 5}\n",
        "# second set\n",
        "B = {1, 2, 6}\n",
        "# perform difference operation using &\n",
        "print('Difference using &:', A - B)\n",
        "\n",
        "# perform difference operation using difference()\n",
        "print('Difference using difference():', A.difference(B))\n",
        "print(\"\\n\")\n",
        "\n",
        "print(\"B-A\", B-A )\n",
        "print('Difference using difference() B-A:', B.difference(A))\n",
        "\n",
        "print(\"\\n\")\n",
        "\n",
        "symm_diff= A.symmetric_difference(B)\n",
        "print(symm_diff)\n",
        "print(\"\\n\")\n",
        "symm_diff= B.symmetric_difference(A)\n",
        "print(symm_diff)"
      ],
      "metadata": {
        "colab": {
          "base_uri": "https://localhost:8080/"
        },
        "id": "jWQsUNyUfvNO",
        "outputId": "ba6c3a1c-b891-4e77-b508-404c44e84c5e"
      },
      "execution_count": null,
      "outputs": [
        {
          "output_type": "stream",
          "name": "stdout",
          "text": [
            "Difference using &: {3, 5}\n",
            "Difference using difference(): {3, 5}\n",
            "\n",
            "\n",
            "B-A {1, 6}\n",
            "Difference using difference() B-A: {1, 6}\n",
            "\n",
            "\n",
            "{1, 3, 5, 6}\n",
            "\n",
            "\n",
            "{1, 3, 5, 6}\n"
          ]
        }
      ]
    },
    {
      "cell_type": "code",
      "source": [
        "arbitary means randomly"
      ],
      "metadata": {
        "id": "mF86vJUchDIa"
      },
      "execution_count": null,
      "outputs": []
    },
    {
      "cell_type": "markdown",
      "source": [
        "###Add Items"
      ],
      "metadata": {
        "id": "76Ahm6mwJvuD"
      }
    },
    {
      "cell_type": "code",
      "source": [
        "numbers = {21, 34, 54, 12}\n",
        "\n",
        "print('Initial Set:',numbers)\n",
        "\n",
        "# using add() method\n",
        "numbers.add(32)\n",
        "# Add an element\n",
        "\n",
        "print('Updated Set:', numbers)"
      ],
      "metadata": {
        "colab": {
          "base_uri": "https://localhost:8080/"
        },
        "id": "_tLvAeSwJyaK",
        "outputId": "c0f796d1-b4ad-4de3-8c35-9328e5f108d5"
      },
      "execution_count": null,
      "outputs": [
        {
          "output_type": "stream",
          "name": "stdout",
          "text": [
            "Initial Set: {34, 12, 21, 54}\n",
            "Updated Set: {32, 34, 12, 21, 54}\n"
          ]
        }
      ]
    },
    {
      "cell_type": "code",
      "source": [
        "# Updating the elements in a set using list\n",
        "companies = {'Lacoste', 'Ralph Lauren'}   #set\n",
        "tech_companies = ['apple', 'google', 'apple'] # list\n",
        "\n",
        "companies.update(tech_companies)\n",
        "\n",
        "print(companies)\n"
      ],
      "metadata": {
        "colab": {
          "base_uri": "https://localhost:8080/"
        },
        "id": "CW3jw9QkJ1qH",
        "outputId": "c9376f09-0cd0-4dbb-bbac-0595f7f6d87e"
      },
      "execution_count": null,
      "outputs": [
        {
          "output_type": "stream",
          "name": "stdout",
          "text": [
            "{'apple', 'google', 'Lacoste', 'Ralph Lauren'}\n"
          ]
        }
      ]
    },
    {
      "cell_type": "markdown",
      "source": [
        "Remove an element from a set"
      ],
      "metadata": {
        "id": "fwEHL0uKJ_X2"
      }
    },
    {
      "cell_type": "code",
      "source": [
        "languages = {'Swift', 'Java', 'Python'}\n",
        "\n",
        "print('Initial Set:',languages)\n",
        "\n",
        "# remove 'Java' from a set\n",
        "removedValue = languages.discard('Java')\n",
        "print(\"Removed value is:\", removedValue)\n",
        "\n",
        "print('Set after discard:', languages)"
      ],
      "metadata": {
        "colab": {
          "base_uri": "https://localhost:8080/"
        },
        "id": "4Q1Po73NJ6mC",
        "outputId": "f5037a41-d4d5-4e2a-d34e-adb8eb2caa59"
      },
      "execution_count": null,
      "outputs": [
        {
          "output_type": "stream",
          "name": "stdout",
          "text": [
            "Initial Set: {'Swift', 'Java', 'Python'}\n",
            "Removed value is: None\n",
            "Set after discard: {'Swift', 'Python'}\n"
          ]
        }
      ]
    },
    {
      "cell_type": "code",
      "source": [
        "languages.remove('Python')"
      ],
      "metadata": {
        "id": "RLgGCMxBWYsc"
      },
      "execution_count": null,
      "outputs": []
    },
    {
      "cell_type": "code",
      "source": [],
      "metadata": {
        "id": "pUBPLc5mXMJ0"
      },
      "execution_count": null,
      "outputs": []
    }
  ]
}